{
  "cells": [
    {
      "cell_type": "markdown",
      "metadata": {
        "id": "SIzUK5olpg0E"
      },
      "source": [
        "#Projeto 1"
      ]
    },
    {
      "cell_type": "markdown",
      "metadata": {
        "id": "YPxOUGeZpx_7"
      },
      "source": [
        "##Limpeza e Análise de Dados\n",
        "\n",
        "Os datasets utilizados contêm informações sobre os candidatos de um determinado processo seletivo.\n",
        "\n",
        "###Features\n",
        "\n",
        "* **employee_id:** ID único do funcionário;\n",
        "* **department:** departamento do funcionário;\n",
        "* **region:** região de emprego (não ordenada);\n",
        "* **education:** nível educacional do funcionário;\n",
        "* **gender:** gênero do funcionário\n",
        "* **recruitment_channel:** canal de recrutamento para o funcionário;\n",
        "* **no_ of_ trainings:** número de treinamentos completados em anos passados,\n",
        "sejam em soft skills, technical skills, etc.\n",
        "* **age:** idade do funcionário;\n",
        "* **previous_ year_ rating:** avaliação do funcionário para o ano anterior;\n",
        "* **length_ of_ service:** duração do serviço em anos;\n",
        "* **awards_ won?:** se ganhou algum prêmio em anos anteriores, recebe 1, do\n",
        "contrário 0;\n",
        "* **avg_ training_ score:** pontuação média nas avaliações de treinamento atuais;\n",
        "\n",
        "###Target\n",
        "\n",
        "* **is_promoted:** recomendado ou não para promoção."
      ]
    },
    {
      "cell_type": "markdown",
      "metadata": {
        "id": "JKM91-nSp3XY"
      },
      "source": [
        "##Bibliotecas que serão utilizadas"
      ]
    },
    {
      "cell_type": "code",
      "execution_count": null,
      "metadata": {
        "id": "XWgqmp4Jp6jz"
      },
      "outputs": [],
      "source": [
        "#chamando nossos 4 cavaleiros do apocalipse\n",
        "import numpy as np\n",
        "import pandas as pd\n",
        "import io\n",
        "import matplotlib.pyplot as plt\n",
        "import seaborn as sns"
      ]
    },
    {
      "cell_type": "code",
      "execution_count": null,
      "metadata": {
        "id": "DdjBvAi-XGVh"
      },
      "outputs": [],
      "source": [
        "df = pd.read_csv('train.csv') # Dataset que será utilizado, futuramente, para treinar o modelo.\n",
        "df.set_index(\"employee_id\", inplace=True) # Define a coluna ID como índice (evita que essa interfira na predição)."
      ]
    },
    {
      "cell_type": "markdown",
      "metadata": {
        "id": "pkCSSHIRXGVk"
      },
      "source": [
        "## Informações gerais sobre o dataset\n",
        "\n",
        "Para entender melhor como o dataset está organizado irei utilizar a função `head` para mostrar as 10 primeiras linhas do dataset."
      ]
    },
    {
      "cell_type": "code",
      "execution_count": null,
      "metadata": {
        "colab": {
          "base_uri": "https://localhost:8080/",
          "height": 394
        },
        "id": "A9pVSM8EOjDY",
        "outputId": "d7642f45-e9ce-4c15-c0ef-7ff5b6e19d98"
      },
      "outputs": [
        {
          "output_type": "execute_result",
          "data": {
            "text/plain": [
              "                    department     region         education gender  \\\n",
              "employee_id                                                          \n",
              "65438        Sales & Marketing   region_7  Master's & above      f   \n",
              "65141               Operations  region_22        Bachelor's      m   \n",
              "7513         Sales & Marketing  region_19        Bachelor's      m   \n",
              "2542         Sales & Marketing  region_23        Bachelor's      m   \n",
              "48945               Technology  region_26        Bachelor's      m   \n",
              "58896                Analytics   region_2        Bachelor's      m   \n",
              "20379               Operations  region_20        Bachelor's      f   \n",
              "16290               Operations  region_34  Master's & above      m   \n",
              "73202                Analytics  region_20        Bachelor's      m   \n",
              "28911        Sales & Marketing   region_1  Master's & above      m   \n",
              "\n",
              "            recruitment_channel  no_of_trainings  age  previous_year_rating  \\\n",
              "employee_id                                                                   \n",
              "65438                  sourcing              1.0   35                   5.0   \n",
              "65141                     other              1.0   30                   5.0   \n",
              "7513                   sourcing              1.0   34                   3.0   \n",
              "2542                      other              2.0   39                   1.0   \n",
              "48945                     other              1.0   45                   3.0   \n",
              "58896                  sourcing              2.0   31                   3.0   \n",
              "20379                     other              1.0   31                   3.0   \n",
              "16290                  sourcing              1.0   33                   3.0   \n",
              "73202                     other              1.0   28                   4.0   \n",
              "28911                  sourcing              1.0   32                   5.0   \n",
              "\n",
              "             length_of_service  awards_won?  avg_training_score  is_promoted  \n",
              "employee_id                                                                   \n",
              "65438                        8            0                49.0            0  \n",
              "65141                        4            0                60.0            0  \n",
              "7513                         7            0                50.0            0  \n",
              "2542                        10            0                50.0            0  \n",
              "48945                        2            0                73.0            0  \n",
              "58896                        7            0                85.0            0  \n",
              "20379                        5            0                59.0            0  \n",
              "16290                        6            0                63.0            0  \n",
              "73202                        5            0                83.0            0  \n",
              "28911                        5            0                54.0            0  "
            ],
            "text/html": [
              "\n",
              "  <div id=\"df-42ed5a21-8d11-4681-9fc9-bb205d46023b\">\n",
              "    <div class=\"colab-df-container\">\n",
              "      <div>\n",
              "<style scoped>\n",
              "    .dataframe tbody tr th:only-of-type {\n",
              "        vertical-align: middle;\n",
              "    }\n",
              "\n",
              "    .dataframe tbody tr th {\n",
              "        vertical-align: top;\n",
              "    }\n",
              "\n",
              "    .dataframe thead th {\n",
              "        text-align: right;\n",
              "    }\n",
              "</style>\n",
              "<table border=\"1\" class=\"dataframe\">\n",
              "  <thead>\n",
              "    <tr style=\"text-align: right;\">\n",
              "      <th></th>\n",
              "      <th>department</th>\n",
              "      <th>region</th>\n",
              "      <th>education</th>\n",
              "      <th>gender</th>\n",
              "      <th>recruitment_channel</th>\n",
              "      <th>no_of_trainings</th>\n",
              "      <th>age</th>\n",
              "      <th>previous_year_rating</th>\n",
              "      <th>length_of_service</th>\n",
              "      <th>awards_won?</th>\n",
              "      <th>avg_training_score</th>\n",
              "      <th>is_promoted</th>\n",
              "    </tr>\n",
              "    <tr>\n",
              "      <th>employee_id</th>\n",
              "      <th></th>\n",
              "      <th></th>\n",
              "      <th></th>\n",
              "      <th></th>\n",
              "      <th></th>\n",
              "      <th></th>\n",
              "      <th></th>\n",
              "      <th></th>\n",
              "      <th></th>\n",
              "      <th></th>\n",
              "      <th></th>\n",
              "      <th></th>\n",
              "    </tr>\n",
              "  </thead>\n",
              "  <tbody>\n",
              "    <tr>\n",
              "      <th>65438</th>\n",
              "      <td>Sales &amp; Marketing</td>\n",
              "      <td>region_7</td>\n",
              "      <td>Master's &amp; above</td>\n",
              "      <td>f</td>\n",
              "      <td>sourcing</td>\n",
              "      <td>1.0</td>\n",
              "      <td>35</td>\n",
              "      <td>5.0</td>\n",
              "      <td>8</td>\n",
              "      <td>0</td>\n",
              "      <td>49.0</td>\n",
              "      <td>0</td>\n",
              "    </tr>\n",
              "    <tr>\n",
              "      <th>65141</th>\n",
              "      <td>Operations</td>\n",
              "      <td>region_22</td>\n",
              "      <td>Bachelor's</td>\n",
              "      <td>m</td>\n",
              "      <td>other</td>\n",
              "      <td>1.0</td>\n",
              "      <td>30</td>\n",
              "      <td>5.0</td>\n",
              "      <td>4</td>\n",
              "      <td>0</td>\n",
              "      <td>60.0</td>\n",
              "      <td>0</td>\n",
              "    </tr>\n",
              "    <tr>\n",
              "      <th>7513</th>\n",
              "      <td>Sales &amp; Marketing</td>\n",
              "      <td>region_19</td>\n",
              "      <td>Bachelor's</td>\n",
              "      <td>m</td>\n",
              "      <td>sourcing</td>\n",
              "      <td>1.0</td>\n",
              "      <td>34</td>\n",
              "      <td>3.0</td>\n",
              "      <td>7</td>\n",
              "      <td>0</td>\n",
              "      <td>50.0</td>\n",
              "      <td>0</td>\n",
              "    </tr>\n",
              "    <tr>\n",
              "      <th>2542</th>\n",
              "      <td>Sales &amp; Marketing</td>\n",
              "      <td>region_23</td>\n",
              "      <td>Bachelor's</td>\n",
              "      <td>m</td>\n",
              "      <td>other</td>\n",
              "      <td>2.0</td>\n",
              "      <td>39</td>\n",
              "      <td>1.0</td>\n",
              "      <td>10</td>\n",
              "      <td>0</td>\n",
              "      <td>50.0</td>\n",
              "      <td>0</td>\n",
              "    </tr>\n",
              "    <tr>\n",
              "      <th>48945</th>\n",
              "      <td>Technology</td>\n",
              "      <td>region_26</td>\n",
              "      <td>Bachelor's</td>\n",
              "      <td>m</td>\n",
              "      <td>other</td>\n",
              "      <td>1.0</td>\n",
              "      <td>45</td>\n",
              "      <td>3.0</td>\n",
              "      <td>2</td>\n",
              "      <td>0</td>\n",
              "      <td>73.0</td>\n",
              "      <td>0</td>\n",
              "    </tr>\n",
              "    <tr>\n",
              "      <th>58896</th>\n",
              "      <td>Analytics</td>\n",
              "      <td>region_2</td>\n",
              "      <td>Bachelor's</td>\n",
              "      <td>m</td>\n",
              "      <td>sourcing</td>\n",
              "      <td>2.0</td>\n",
              "      <td>31</td>\n",
              "      <td>3.0</td>\n",
              "      <td>7</td>\n",
              "      <td>0</td>\n",
              "      <td>85.0</td>\n",
              "      <td>0</td>\n",
              "    </tr>\n",
              "    <tr>\n",
              "      <th>20379</th>\n",
              "      <td>Operations</td>\n",
              "      <td>region_20</td>\n",
              "      <td>Bachelor's</td>\n",
              "      <td>f</td>\n",
              "      <td>other</td>\n",
              "      <td>1.0</td>\n",
              "      <td>31</td>\n",
              "      <td>3.0</td>\n",
              "      <td>5</td>\n",
              "      <td>0</td>\n",
              "      <td>59.0</td>\n",
              "      <td>0</td>\n",
              "    </tr>\n",
              "    <tr>\n",
              "      <th>16290</th>\n",
              "      <td>Operations</td>\n",
              "      <td>region_34</td>\n",
              "      <td>Master's &amp; above</td>\n",
              "      <td>m</td>\n",
              "      <td>sourcing</td>\n",
              "      <td>1.0</td>\n",
              "      <td>33</td>\n",
              "      <td>3.0</td>\n",
              "      <td>6</td>\n",
              "      <td>0</td>\n",
              "      <td>63.0</td>\n",
              "      <td>0</td>\n",
              "    </tr>\n",
              "    <tr>\n",
              "      <th>73202</th>\n",
              "      <td>Analytics</td>\n",
              "      <td>region_20</td>\n",
              "      <td>Bachelor's</td>\n",
              "      <td>m</td>\n",
              "      <td>other</td>\n",
              "      <td>1.0</td>\n",
              "      <td>28</td>\n",
              "      <td>4.0</td>\n",
              "      <td>5</td>\n",
              "      <td>0</td>\n",
              "      <td>83.0</td>\n",
              "      <td>0</td>\n",
              "    </tr>\n",
              "    <tr>\n",
              "      <th>28911</th>\n",
              "      <td>Sales &amp; Marketing</td>\n",
              "      <td>region_1</td>\n",
              "      <td>Master's &amp; above</td>\n",
              "      <td>m</td>\n",
              "      <td>sourcing</td>\n",
              "      <td>1.0</td>\n",
              "      <td>32</td>\n",
              "      <td>5.0</td>\n",
              "      <td>5</td>\n",
              "      <td>0</td>\n",
              "      <td>54.0</td>\n",
              "      <td>0</td>\n",
              "    </tr>\n",
              "  </tbody>\n",
              "</table>\n",
              "</div>\n",
              "      <button class=\"colab-df-convert\" onclick=\"convertToInteractive('df-42ed5a21-8d11-4681-9fc9-bb205d46023b')\"\n",
              "              title=\"Convert this dataframe to an interactive table.\"\n",
              "              style=\"display:none;\">\n",
              "        \n",
              "  <svg xmlns=\"http://www.w3.org/2000/svg\" height=\"24px\"viewBox=\"0 0 24 24\"\n",
              "       width=\"24px\">\n",
              "    <path d=\"M0 0h24v24H0V0z\" fill=\"none\"/>\n",
              "    <path d=\"M18.56 5.44l.94 2.06.94-2.06 2.06-.94-2.06-.94-.94-2.06-.94 2.06-2.06.94zm-11 1L8.5 8.5l.94-2.06 2.06-.94-2.06-.94L8.5 2.5l-.94 2.06-2.06.94zm10 10l.94 2.06.94-2.06 2.06-.94-2.06-.94-.94-2.06-.94 2.06-2.06.94z\"/><path d=\"M17.41 7.96l-1.37-1.37c-.4-.4-.92-.59-1.43-.59-.52 0-1.04.2-1.43.59L10.3 9.45l-7.72 7.72c-.78.78-.78 2.05 0 2.83L4 21.41c.39.39.9.59 1.41.59.51 0 1.02-.2 1.41-.59l7.78-7.78 2.81-2.81c.8-.78.8-2.07 0-2.86zM5.41 20L4 18.59l7.72-7.72 1.47 1.35L5.41 20z\"/>\n",
              "  </svg>\n",
              "      </button>\n",
              "      \n",
              "  <style>\n",
              "    .colab-df-container {\n",
              "      display:flex;\n",
              "      flex-wrap:wrap;\n",
              "      gap: 12px;\n",
              "    }\n",
              "\n",
              "    .colab-df-convert {\n",
              "      background-color: #E8F0FE;\n",
              "      border: none;\n",
              "      border-radius: 50%;\n",
              "      cursor: pointer;\n",
              "      display: none;\n",
              "      fill: #1967D2;\n",
              "      height: 32px;\n",
              "      padding: 0 0 0 0;\n",
              "      width: 32px;\n",
              "    }\n",
              "\n",
              "    .colab-df-convert:hover {\n",
              "      background-color: #E2EBFA;\n",
              "      box-shadow: 0px 1px 2px rgba(60, 64, 67, 0.3), 0px 1px 3px 1px rgba(60, 64, 67, 0.15);\n",
              "      fill: #174EA6;\n",
              "    }\n",
              "\n",
              "    [theme=dark] .colab-df-convert {\n",
              "      background-color: #3B4455;\n",
              "      fill: #D2E3FC;\n",
              "    }\n",
              "\n",
              "    [theme=dark] .colab-df-convert:hover {\n",
              "      background-color: #434B5C;\n",
              "      box-shadow: 0px 1px 3px 1px rgba(0, 0, 0, 0.15);\n",
              "      filter: drop-shadow(0px 1px 2px rgba(0, 0, 0, 0.3));\n",
              "      fill: #FFFFFF;\n",
              "    }\n",
              "  </style>\n",
              "\n",
              "      <script>\n",
              "        const buttonEl =\n",
              "          document.querySelector('#df-42ed5a21-8d11-4681-9fc9-bb205d46023b button.colab-df-convert');\n",
              "        buttonEl.style.display =\n",
              "          google.colab.kernel.accessAllowed ? 'block' : 'none';\n",
              "\n",
              "        async function convertToInteractive(key) {\n",
              "          const element = document.querySelector('#df-42ed5a21-8d11-4681-9fc9-bb205d46023b');\n",
              "          const dataTable =\n",
              "            await google.colab.kernel.invokeFunction('convertToInteractive',\n",
              "                                                     [key], {});\n",
              "          if (!dataTable) return;\n",
              "\n",
              "          const docLinkHtml = 'Like what you see? Visit the ' +\n",
              "            '<a target=\"_blank\" href=https://colab.research.google.com/notebooks/data_table.ipynb>data table notebook</a>'\n",
              "            + ' to learn more about interactive tables.';\n",
              "          element.innerHTML = '';\n",
              "          dataTable['output_type'] = 'display_data';\n",
              "          await google.colab.output.renderOutput(dataTable, element);\n",
              "          const docLink = document.createElement('div');\n",
              "          docLink.innerHTML = docLinkHtml;\n",
              "          element.appendChild(docLink);\n",
              "        }\n",
              "      </script>\n",
              "    </div>\n",
              "  </div>\n",
              "  "
            ]
          },
          "metadata": {},
          "execution_count": 288
        }
      ],
      "source": [
        "df.head(10)"
      ]
    },
    {
      "cell_type": "code",
      "execution_count": null,
      "metadata": {
        "colab": {
          "base_uri": "https://localhost:8080/"
        },
        "id": "tno5HWm-XGVl",
        "outputId": "e86938d3-ba77-429b-a0c4-8e1d60829d35"
      },
      "outputs": [
        {
          "output_type": "stream",
          "name": "stdout",
          "text": [
            "<class 'pandas.core.frame.DataFrame'>\n",
            "Int64Index: 54808 entries, 65438 to 51526\n",
            "Data columns (total 12 columns):\n",
            " #   Column                Non-Null Count  Dtype  \n",
            "---  ------                --------------  -----  \n",
            " 0   department            54808 non-null  object \n",
            " 1   region                54808 non-null  object \n",
            " 2   education             52399 non-null  object \n",
            " 3   gender                54808 non-null  object \n",
            " 4   recruitment_channel   54808 non-null  object \n",
            " 5   no_of_trainings       49962 non-null  float64\n",
            " 6   age                   54808 non-null  int64  \n",
            " 7   previous_year_rating  50684 non-null  float64\n",
            " 8   length_of_service     54808 non-null  int64  \n",
            " 9   awards_won?           54808 non-null  int64  \n",
            " 10  avg_training_score    47350 non-null  float64\n",
            " 11  is_promoted           54808 non-null  int64  \n",
            "dtypes: float64(3), int64(4), object(5)\n",
            "memory usage: 5.4+ MB\n"
          ]
        }
      ],
      "source": [
        "df.info()"
      ]
    },
    {
      "cell_type": "markdown",
      "metadata": {
        "id": "uoxwSVMCXGVp"
      },
      "source": [
        "Observações iniciais:\n",
        "* Temos 54808 entradas na coluna de _target_. Assim, analisando as outras colunas percebemos que várias estão com dados faltantes (e não são poucos);\n",
        "* Além disso, temos 5 _features_ com dtype = object, o que isso significa que se tratam de dados categóricos."
      ]
    },
    {
      "cell_type": "markdown",
      "metadata": {
        "id": "BPF_I5KmXGVq"
      },
      "source": [
        "# Dados Categóricos\n",
        "\n",
        "Vamos vizualizar os dados categóricos.Uma forma de realizar isso seria utilizando o método describe, mas apenas incluindo as colunas de dados categóricos."
      ]
    },
    {
      "cell_type": "code",
      "execution_count": null,
      "metadata": {
        "colab": {
          "base_uri": "https://localhost:8080/",
          "height": 175
        },
        "id": "iy6249aVXGVq",
        "outputId": "3d5cea6e-f795-404d-bbbb-8775eef56d13"
      },
      "outputs": [
        {
          "output_type": "execute_result",
          "data": {
            "text/plain": [
              "               department    region   education gender recruitment_channel\n",
              "count               54808     54808       52399  54808               54808\n",
              "unique                 10        35           3      5                   3\n",
              "top     Sales & Marketing  region_2  Bachelor's      m               other\n",
              "freq                16840     12343       36669  35010               30446"
            ],
            "text/html": [
              "\n",
              "  <div id=\"df-6aa2bb69-7625-4fb8-99f9-92c1462bba62\">\n",
              "    <div class=\"colab-df-container\">\n",
              "      <div>\n",
              "<style scoped>\n",
              "    .dataframe tbody tr th:only-of-type {\n",
              "        vertical-align: middle;\n",
              "    }\n",
              "\n",
              "    .dataframe tbody tr th {\n",
              "        vertical-align: top;\n",
              "    }\n",
              "\n",
              "    .dataframe thead th {\n",
              "        text-align: right;\n",
              "    }\n",
              "</style>\n",
              "<table border=\"1\" class=\"dataframe\">\n",
              "  <thead>\n",
              "    <tr style=\"text-align: right;\">\n",
              "      <th></th>\n",
              "      <th>department</th>\n",
              "      <th>region</th>\n",
              "      <th>education</th>\n",
              "      <th>gender</th>\n",
              "      <th>recruitment_channel</th>\n",
              "    </tr>\n",
              "  </thead>\n",
              "  <tbody>\n",
              "    <tr>\n",
              "      <th>count</th>\n",
              "      <td>54808</td>\n",
              "      <td>54808</td>\n",
              "      <td>52399</td>\n",
              "      <td>54808</td>\n",
              "      <td>54808</td>\n",
              "    </tr>\n",
              "    <tr>\n",
              "      <th>unique</th>\n",
              "      <td>10</td>\n",
              "      <td>35</td>\n",
              "      <td>3</td>\n",
              "      <td>5</td>\n",
              "      <td>3</td>\n",
              "    </tr>\n",
              "    <tr>\n",
              "      <th>top</th>\n",
              "      <td>Sales &amp; Marketing</td>\n",
              "      <td>region_2</td>\n",
              "      <td>Bachelor's</td>\n",
              "      <td>m</td>\n",
              "      <td>other</td>\n",
              "    </tr>\n",
              "    <tr>\n",
              "      <th>freq</th>\n",
              "      <td>16840</td>\n",
              "      <td>12343</td>\n",
              "      <td>36669</td>\n",
              "      <td>35010</td>\n",
              "      <td>30446</td>\n",
              "    </tr>\n",
              "  </tbody>\n",
              "</table>\n",
              "</div>\n",
              "      <button class=\"colab-df-convert\" onclick=\"convertToInteractive('df-6aa2bb69-7625-4fb8-99f9-92c1462bba62')\"\n",
              "              title=\"Convert this dataframe to an interactive table.\"\n",
              "              style=\"display:none;\">\n",
              "        \n",
              "  <svg xmlns=\"http://www.w3.org/2000/svg\" height=\"24px\"viewBox=\"0 0 24 24\"\n",
              "       width=\"24px\">\n",
              "    <path d=\"M0 0h24v24H0V0z\" fill=\"none\"/>\n",
              "    <path d=\"M18.56 5.44l.94 2.06.94-2.06 2.06-.94-2.06-.94-.94-2.06-.94 2.06-2.06.94zm-11 1L8.5 8.5l.94-2.06 2.06-.94-2.06-.94L8.5 2.5l-.94 2.06-2.06.94zm10 10l.94 2.06.94-2.06 2.06-.94-2.06-.94-.94-2.06-.94 2.06-2.06.94z\"/><path d=\"M17.41 7.96l-1.37-1.37c-.4-.4-.92-.59-1.43-.59-.52 0-1.04.2-1.43.59L10.3 9.45l-7.72 7.72c-.78.78-.78 2.05 0 2.83L4 21.41c.39.39.9.59 1.41.59.51 0 1.02-.2 1.41-.59l7.78-7.78 2.81-2.81c.8-.78.8-2.07 0-2.86zM5.41 20L4 18.59l7.72-7.72 1.47 1.35L5.41 20z\"/>\n",
              "  </svg>\n",
              "      </button>\n",
              "      \n",
              "  <style>\n",
              "    .colab-df-container {\n",
              "      display:flex;\n",
              "      flex-wrap:wrap;\n",
              "      gap: 12px;\n",
              "    }\n",
              "\n",
              "    .colab-df-convert {\n",
              "      background-color: #E8F0FE;\n",
              "      border: none;\n",
              "      border-radius: 50%;\n",
              "      cursor: pointer;\n",
              "      display: none;\n",
              "      fill: #1967D2;\n",
              "      height: 32px;\n",
              "      padding: 0 0 0 0;\n",
              "      width: 32px;\n",
              "    }\n",
              "\n",
              "    .colab-df-convert:hover {\n",
              "      background-color: #E2EBFA;\n",
              "      box-shadow: 0px 1px 2px rgba(60, 64, 67, 0.3), 0px 1px 3px 1px rgba(60, 64, 67, 0.15);\n",
              "      fill: #174EA6;\n",
              "    }\n",
              "\n",
              "    [theme=dark] .colab-df-convert {\n",
              "      background-color: #3B4455;\n",
              "      fill: #D2E3FC;\n",
              "    }\n",
              "\n",
              "    [theme=dark] .colab-df-convert:hover {\n",
              "      background-color: #434B5C;\n",
              "      box-shadow: 0px 1px 3px 1px rgba(0, 0, 0, 0.15);\n",
              "      filter: drop-shadow(0px 1px 2px rgba(0, 0, 0, 0.3));\n",
              "      fill: #FFFFFF;\n",
              "    }\n",
              "  </style>\n",
              "\n",
              "      <script>\n",
              "        const buttonEl =\n",
              "          document.querySelector('#df-6aa2bb69-7625-4fb8-99f9-92c1462bba62 button.colab-df-convert');\n",
              "        buttonEl.style.display =\n",
              "          google.colab.kernel.accessAllowed ? 'block' : 'none';\n",
              "\n",
              "        async function convertToInteractive(key) {\n",
              "          const element = document.querySelector('#df-6aa2bb69-7625-4fb8-99f9-92c1462bba62');\n",
              "          const dataTable =\n",
              "            await google.colab.kernel.invokeFunction('convertToInteractive',\n",
              "                                                     [key], {});\n",
              "          if (!dataTable) return;\n",
              "\n",
              "          const docLinkHtml = 'Like what you see? Visit the ' +\n",
              "            '<a target=\"_blank\" href=https://colab.research.google.com/notebooks/data_table.ipynb>data table notebook</a>'\n",
              "            + ' to learn more about interactive tables.';\n",
              "          element.innerHTML = '';\n",
              "          dataTable['output_type'] = 'display_data';\n",
              "          await google.colab.output.renderOutput(dataTable, element);\n",
              "          const docLink = document.createElement('div');\n",
              "          docLink.innerHTML = docLinkHtml;\n",
              "          element.appendChild(docLink);\n",
              "        }\n",
              "      </script>\n",
              "    </div>\n",
              "  </div>\n",
              "  "
            ]
          },
          "metadata": {},
          "execution_count": 290
        }
      ],
      "source": [
        "df.describe(include=['object'])"
      ]
    },
    {
      "cell_type": "markdown",
      "source": [
        "**OBSERVAÇÃO IMPORTANTE**: Na coluna gender deveria ter apenas duas classificações. Portanto, precisamos entender o que está acontecendo com essas colunas."
      ],
      "metadata": {
        "id": "Fw4KrbQA7q8c"
      }
    },
    {
      "cell_type": "code",
      "execution_count": null,
      "metadata": {
        "colab": {
          "base_uri": "https://localhost:8080/"
        },
        "id": "fE5GqEJlXGVv",
        "outputId": "6e68e484-249e-41bd-ca4b-df4ed50a4668"
      },
      "outputs": [
        {
          "output_type": "stream",
          "name": "stdout",
          "text": [
            "GENDER column unique values:\n",
            "0                                   f\n",
            "1                                   m\n",
            "2                                MALE\n",
            "3                              fEMALE\n",
            "4    eu sou homem hetero homossexual!\n",
            "dtype: object\n",
            "\n"
          ]
        }
      ],
      "source": [
        "print(\"GENDER column unique values:\")\n",
        "print(pd.Series(df.gender.unique()), end='\\n\\n')"
      ]
    },
    {
      "cell_type": "code",
      "execution_count": null,
      "metadata": {
        "colab": {
          "base_uri": "https://localhost:8080/"
        },
        "id": "8HYQy1PVxyRc",
        "outputId": "4c68b919-33fd-4afd-e6d9-e8ce4cd6030f"
      },
      "outputs": [
        {
          "output_type": "stream",
          "name": "stdout",
          "text": [
            "DEPARTMENT column unique values:\n",
            "0     Sales & Marketing\n",
            "1            Operations\n",
            "2            Technology\n",
            "3             Analytics\n",
            "4                   R&D\n",
            "5           Procurement\n",
            "6               Finance\n",
            "7                    HR\n",
            "8                 Legal\n",
            "9    quem trouxe quenga\n",
            "dtype: object\n",
            "\n"
          ]
        }
      ],
      "source": [
        "print(\"DEPARTMENT column unique values:\")\n",
        "print(pd.Series(df.department.unique()), end='\\n\\n')"
      ]
    },
    {
      "cell_type": "code",
      "execution_count": null,
      "metadata": {
        "colab": {
          "base_uri": "https://localhost:8080/"
        },
        "id": "4A8GSbmxxyRc",
        "outputId": "e4a11737-28be-47bb-9fd5-d90c48587132"
      },
      "outputs": [
        {
          "output_type": "stream",
          "name": "stdout",
          "text": [
            "REGION column unique values:\n",
            "0                 region_7\n",
            "1                region_22\n",
            "2                region_19\n",
            "3                region_23\n",
            "4                region_26\n",
            "5                 region_2\n",
            "6                region_20\n",
            "7                region_34\n",
            "8                 region_1\n",
            "9                 region_4\n",
            "10               region_29\n",
            "11               region_31\n",
            "12               region_15\n",
            "13               region_14\n",
            "14               region_11\n",
            "15                region_5\n",
            "16               region_28\n",
            "17               region_17\n",
            "18               region_13\n",
            "19               region_16\n",
            "20               region_25\n",
            "21               region_10\n",
            "22               region_27\n",
            "23               region_30\n",
            "24               region_12\n",
            "25               region_21\n",
            "26                region_8\n",
            "27               region_32\n",
            "28                region_6\n",
            "29               region_33\n",
            "30               region_24\n",
            "31                region_3\n",
            "32                region_9\n",
            "33               region_18\n",
            "34    casa da lu na suecia\n",
            "dtype: object\n",
            "\n"
          ]
        }
      ],
      "source": [
        "print(\"REGION column unique values:\")\n",
        "print(pd.Series(df.region.unique()), end='\\n\\n')"
      ]
    },
    {
      "cell_type": "code",
      "execution_count": null,
      "metadata": {
        "colab": {
          "base_uri": "https://localhost:8080/"
        },
        "id": "TTPIY3h73fhP",
        "outputId": "26cc0f95-2b60-4c85-bf10-6181134c7862"
      },
      "outputs": [
        {
          "output_type": "stream",
          "name": "stdout",
          "text": [
            "EDUCATION column unique values:\n",
            "0    Master's & above\n",
            "1          Bachelor's\n",
            "2                 NaN\n",
            "3     Below Secondary\n",
            "dtype: object\n",
            "\n"
          ]
        }
      ],
      "source": [
        "print(\"EDUCATION column unique values:\")\n",
        "print(pd.Series(df.education.unique()), end='\\n\\n')"
      ]
    },
    {
      "cell_type": "code",
      "execution_count": null,
      "metadata": {
        "colab": {
          "base_uri": "https://localhost:8080/"
        },
        "id": "ECTx1i9w3nO7",
        "outputId": "f32492cd-ebef-4294-a9d5-3ee1bcb1a421"
      },
      "outputs": [
        {
          "output_type": "stream",
          "name": "stdout",
          "text": [
            "RECRUITMENT CHANNEL column unique values:\n",
            "0    sourcing\n",
            "1       other\n",
            "2    referred\n",
            "dtype: object\n",
            "\n"
          ]
        }
      ],
      "source": [
        "print(\"RECRUITMENT CHANNEL column unique values:\")\n",
        "print(pd.Series(df.recruitment_channel.unique()), end='\\n\\n')"
      ]
    },
    {
      "cell_type": "markdown",
      "metadata": {
        "id": "TPVma4onxyRd"
      },
      "source": [
        "A partir da observação dos valores, é possível notar um problema de representação da coluna gender devido diferenças nas strings. Além disso, há informações incorretas em department and region. Para resolver tal problema iremos apenas usar um `.replace` para manter um padrão dentro das colunas e corrigir os dados incorretos."
      ]
    },
    {
      "cell_type": "markdown",
      "metadata": {
        "id": "Nxp5yrD2XGVz"
      },
      "source": [
        "## Trocando os dados categóricos"
      ]
    },
    {
      "cell_type": "code",
      "execution_count": null,
      "metadata": {
        "id": "m5NjVF6zXGV0"
      },
      "outputs": [],
      "source": [
        "# Substitui \"MALE\" por \"m\".\n",
        "df[\"gender\"].replace(\"MALE\", \"m\", inplace=True)\n",
        "\n",
        "# Substitui \"fEMALE\" por \"f\".\n",
        "df[\"gender\"].replace(\"fEMALE\", \"f\", inplace=True)\n",
        "\n",
        "# Substitui \"eu sou homem hetero homossexual!\" por \"m\"\n",
        "df[\"gender\"].replace(\"eu sou homem hetero homossexual!\", \"m\", inplace=True)\n",
        "\n",
        "# Substitui \"quem trouxe quenga\" por \"Other\"\n",
        "df[\"department\"].replace(\"quem trouxe quenga\", \"Other\", inplace=True)\n",
        "\n",
        "# Substitui \"casa da lu na suecia\" por \"Other\"\n",
        "df[\"region\"].replace(\"casa da lu na suecia\", \"Other\", inplace=True)"
      ]
    },
    {
      "cell_type": "markdown",
      "metadata": {
        "id": "bmBclpdO6Mqq"
      },
      "source": [
        "Dados atualizados:"
      ]
    },
    {
      "cell_type": "code",
      "execution_count": null,
      "metadata": {
        "colab": {
          "base_uri": "https://localhost:8080/"
        },
        "id": "qo4HIBuJXGV3",
        "outputId": "02b28150-81e7-4219-b290-9d51a6f6ab80"
      },
      "outputs": [
        {
          "output_type": "stream",
          "name": "stdout",
          "text": [
            "GENDER column unique values:\n",
            "0    f\n",
            "1    m\n",
            "dtype: object\n",
            "\n"
          ]
        }
      ],
      "source": [
        "print(\"GENDER column unique values:\")\n",
        "print(pd.Series(df.gender.unique()), end='\\n\\n')"
      ]
    },
    {
      "cell_type": "code",
      "execution_count": null,
      "metadata": {
        "colab": {
          "base_uri": "https://localhost:8080/"
        },
        "id": "G3dYCGcbxyRe",
        "outputId": "75fc4f3b-aeaa-4fe9-e1a5-6df66e1a5a81"
      },
      "outputs": [
        {
          "output_type": "stream",
          "name": "stdout",
          "text": [
            "DEPARTMENT column unique values:\n",
            "0    Sales & Marketing\n",
            "1           Operations\n",
            "2           Technology\n",
            "3            Analytics\n",
            "4                  R&D\n",
            "5          Procurement\n",
            "6              Finance\n",
            "7                   HR\n",
            "8                Legal\n",
            "9                Other\n",
            "dtype: object\n",
            "\n"
          ]
        }
      ],
      "source": [
        "print(\"DEPARTMENT column unique values:\")\n",
        "print(pd.Series(df.department.unique()), end='\\n\\n')"
      ]
    },
    {
      "cell_type": "code",
      "execution_count": null,
      "metadata": {
        "colab": {
          "base_uri": "https://localhost:8080/"
        },
        "id": "S98nLaof6Wdt",
        "outputId": "614745d2-3583-4d26-c007-23fc6a3c66c6"
      },
      "outputs": [
        {
          "output_type": "stream",
          "name": "stdout",
          "text": [
            "REGION column unique values:\n",
            "0      region_7\n",
            "1     region_22\n",
            "2     region_19\n",
            "3     region_23\n",
            "4     region_26\n",
            "5      region_2\n",
            "6     region_20\n",
            "7     region_34\n",
            "8      region_1\n",
            "9      region_4\n",
            "10    region_29\n",
            "11    region_31\n",
            "12    region_15\n",
            "13    region_14\n",
            "14    region_11\n",
            "15     region_5\n",
            "16    region_28\n",
            "17    region_17\n",
            "18    region_13\n",
            "19    region_16\n",
            "20    region_25\n",
            "21    region_10\n",
            "22    region_27\n",
            "23    region_30\n",
            "24    region_12\n",
            "25    region_21\n",
            "26     region_8\n",
            "27    region_32\n",
            "28     region_6\n",
            "29    region_33\n",
            "30    region_24\n",
            "31     region_3\n",
            "32     region_9\n",
            "33    region_18\n",
            "34        Other\n",
            "dtype: object\n",
            "\n"
          ]
        }
      ],
      "source": [
        "print(\"REGION column unique values:\")\n",
        "print(pd.Series(df.region.unique()), end='\\n\\n')"
      ]
    },
    {
      "cell_type": "markdown",
      "metadata": {
        "id": "X-_Gm4kmxyRe"
      },
      "source": [
        "Com isso, conseguimos adequar nossos dados categóricos a fim de termos dados consistentes. Em seguida, podemos visualizar e entender melhor esses dados. "
      ]
    },
    {
      "cell_type": "markdown",
      "metadata": {
        "id": "nleMo2s_XGV6"
      },
      "source": [
        "## Plotando alguns gráficos categóricos\n",
        "\n",
        "Quando estamos lidando com dados categóricos, é importante utilizarmos gráficos simples, como de barras apenas para entender a distribuição de tais dados dentro do nosso _dataset_. É importante termos em mente que sempre precisamos deixar nossos gráficos o mais intuitivo possível, isso porque muitas vezes nossos notebook serão olhados por pessoas de outras áreas como de negócios."
      ]
    },
    {
      "cell_type": "code",
      "execution_count": null,
      "metadata": {
        "colab": {
          "base_uri": "https://localhost:8080/",
          "height": 518
        },
        "id": "-YDpD8oeXGV7",
        "outputId": "f2e19b29-25e0-437a-b0a3-ecd12bf93037"
      },
      "outputs": [
        {
          "output_type": "display_data",
          "data": {
            "text/plain": [
              "<Figure size 720x576 with 1 Axes>"
            ],
            "image/png": "[encoded data removed]"
          },
          "metadata": {}
        }
      ],
      "source": [
        "plt.figure(figsize=(10,8))\n",
        "sns.set_theme(style=\"darkgrid\")\n",
        "sns.countplot(x=df['gender'])\n",
        "plt.xlabel(\"Gender\")\n",
        "plt.ylabel(\"Number of occurs\")\n",
        "plt.title('Number of occurs per gender')\n",
        "plt.show()"
      ]
    },
    {
      "cell_type": "markdown",
      "metadata": {
        "id": "rT9eLJWAXGV-"
      },
      "source": [
        "Podemos ver que, em nosso dataset, o número de pessoas do sexo masculino é bem maior que o número de pessoas do sexo feminino. Isso significa que a empresa (informações do dataset) é majoritariamente masculina."
      ]
    },
    {
      "cell_type": "code",
      "execution_count": null,
      "metadata": {
        "colab": {
          "base_uri": "https://localhost:8080/",
          "height": 518
        },
        "id": "pNp0S72vXGV-",
        "outputId": "737c79c6-875d-4530-fddd-8bad330fac41"
      },
      "outputs": [
        {
          "output_type": "display_data",
          "data": {
            "text/plain": [
              "<Figure size 720x576 with 1 Axes>"
            ],
            "image/png": "[encoded data removed]"
          },
          "metadata": {}
        }
      ],
      "source": [
        "plt.figure(figsize=(10,8))\n",
        "sns.countplot(x=df['education'])\n",
        "plt.xlabel(\"Graduation level\")\n",
        "plt.ylabel(\"Number of occurs\")\n",
        "plt.title('Number of occurs per graduation level')\n",
        "plt.show()"
      ]
    },
    {
      "cell_type": "markdown",
      "metadata": {
        "id": "akV6PUPwXGWC"
      },
      "source": [
        "Podemos perceber que o número de funcionários que trabalham nessa empresa apresentam alta formação acadêmica, sendo que a maioria possui formação em bacharelado (graduação) e quase metade possui pós-graduação."
      ]
    },
    {
      "cell_type": "code",
      "execution_count": null,
      "metadata": {
        "colab": {
          "base_uri": "https://localhost:8080/",
          "height": 518
        },
        "id": "Ai-yIkhiXGWC",
        "outputId": "c1704376-2e19-4ae6-d851-18b5a9ef97e5"
      },
      "outputs": [
        {
          "output_type": "display_data",
          "data": {
            "text/plain": [
              "<Figure size 720x576 with 1 Axes>"
            ],
            "image/png": "[encoded data removed]"
          },
          "metadata": {}
        }
      ],
      "source": [
        "plt.figure(figsize=(10,8))\n",
        "sns.countplot(x=df['department'])\n",
        "plt.xlabel(\"Department\")\n",
        "plt.ylabel(\"Number of occurs\")\n",
        "plt.title('Number of occurs per department')\n",
        "plt.show()"
      ]
    },
    {
      "cell_type": "markdown",
      "metadata": {
        "id": "eTD_LD4LXGWF"
      },
      "source": [
        "O gráfico acima indica que maior parte dos funcionários trabalham nas áreas de marketing e operações. Pode-se observar que a coluna Other que foi substituída pelos dados incoerentes apresenta um número extremamente baixo. Desse modo, temos a opção de retirar esse dado já que não interfere significamente no departamento. Entretanto, iremos analisar o restante das features para confirmar se retirar esse dados não interfere nessas outras features. "
      ]
    },
    {
      "cell_type": "code",
      "execution_count": null,
      "metadata": {
        "colab": {
          "base_uri": "https://localhost:8080/",
          "height": 519
        },
        "id": "MdLBO0ZlLdxJ",
        "outputId": "ac80bffe-6bc2-461f-b67a-c06dfebd1f0b"
      },
      "outputs": [
        {
          "output_type": "display_data",
          "data": {
            "text/plain": [
              "<Figure size 720x576 with 1 Axes>"
            ],
            "image/png": "[encoded data removed]"
          },
          "metadata": {}
        }
      ],
      "source": [
        "plt.figure(figsize=(10,8))\n",
        "sns.countplot(x=df['region'])\n",
        "plt.xlabel(\"Region\")\n",
        "plt.ylabel(\"Number of occurs\")\n",
        "plt.title('Number of occurs per region')\n",
        "plt.show()"
      ]
    },
    {
      "cell_type": "markdown",
      "metadata": {
        "id": "JxNdS7d6Lw2T"
      },
      "source": [
        "Não diz muito, talvez podemos tirar alguma conclusão quando cruzarmos com os dados numéricos. Assim como a feature Department, a coluna Other é irrelevante comparada as outras colunas."
      ]
    },
    {
      "cell_type": "code",
      "execution_count": null,
      "metadata": {
        "colab": {
          "base_uri": "https://localhost:8080/",
          "height": 518
        },
        "id": "AtRHk4bfMXa6",
        "outputId": "ab676cf4-3f7a-4009-ac67-5ba46d8084cf"
      },
      "outputs": [
        {
          "output_type": "display_data",
          "data": {
            "text/plain": [
              "<Figure size 720x576 with 1 Axes>"
            ],
            "image/png": "[encoded data removed]"
          },
          "metadata": {}
        }
      ],
      "source": [
        "plt.figure(figsize=(10,8))\n",
        "sns.countplot(x=df['recruitment_channel'])\n",
        "plt.xlabel(\"Recruitment Channel\")\n",
        "plt.ylabel(\"Number of occurs\")\n",
        "plt.title('Number of occurs per recruitment channel')\n",
        "plt.show()"
      ]
    },
    {
      "cell_type": "markdown",
      "metadata": {
        "id": "MbdbQL6sNPyx"
      },
      "source": [
        "Não diz muito, talvez podemos tirar alguma conclusão quando cruzarmos com os dados numéricos."
      ]
    },
    {
      "cell_type": "markdown",
      "metadata": {
        "id": "xR8xNv_sXGWG"
      },
      "source": [
        "## Lidando com os dados faltantes de Education, Department e Region\n",
        "Como podemos ver nos gráficos acima, as duas últimas colunas apresentam uma categoria \"Other\", isso não é interessante quando se trata de treinar um modelo pois são dados não explicativos sobre o dataset. Tendo isso em vista, precisamos substituir ou excluir esses dados \"especiais\"."
      ]
    },
    {
      "cell_type": "markdown",
      "metadata": {
        "id": "u6UjbyJwYmlz"
      },
      "source": [
        "Para a categoria \"Department\", podemos ver pelo código abaixo que possui 25 entradas com este valor. Podemos remover essas entradas."
      ]
    },
    {
      "cell_type": "code",
      "execution_count": null,
      "metadata": {
        "colab": {
          "base_uri": "https://localhost:8080/"
        },
        "id": "L_gMLlCSXGWG",
        "outputId": "4118ff68-ce01-4286-9603-bcd9bc65e20b"
      },
      "outputs": [
        {
          "output_type": "execute_result",
          "data": {
            "text/plain": [
              "25"
            ]
          },
          "metadata": {},
          "execution_count": 305
        }
      ],
      "source": [
        "len(df[df['department'] == 'Other'])"
      ]
    },
    {
      "cell_type": "code",
      "execution_count": null,
      "metadata": {
        "id": "-I8aUB25ZIWU"
      },
      "outputs": [],
      "source": [
        "indexOthers = df[ df['department'] == 'Other'].index\n",
        "df.drop(indexOthers , inplace=True)"
      ]
    },
    {
      "cell_type": "code",
      "execution_count": null,
      "metadata": {
        "colab": {
          "base_uri": "https://localhost:8080/",
          "height": 518
        },
        "id": "sxgsUGSFcFSW",
        "outputId": "97e5d3fc-8948-448e-9553-626aedf53ccc"
      },
      "outputs": [
        {
          "output_type": "display_data",
          "data": {
            "text/plain": [
              "<Figure size 720x576 with 1 Axes>"
            ],
            "image/png": "[encoded data removed]"
          },
          "metadata": {}
        }
      ],
      "source": [
        "plt.figure(figsize=(10,8))\n",
        "sns.countplot(x=df['department'])\n",
        "plt.xlabel(\"Department\")\n",
        "plt.ylabel(\"Number of occurs\")\n",
        "plt.title('Number of occurs per department')\n",
        "plt.show()"
      ]
    },
    {
      "cell_type": "markdown",
      "metadata": {
        "id": "oSizWFf0xyRj"
      },
      "source": [
        "**OBSERVAÇÃO**: É importante notar que existem diversas maneiras de substuir um valor faltante ou impreciso dentro de um dataset. Não existe uma \"maneira correta\", cada caso é um caso e e deve ser analisado."
      ]
    },
    {
      "cell_type": "markdown",
      "metadata": {
        "id": "zqqNGyMJbAIN"
      },
      "source": [
        "Agora, para a categoria \"Region\", trata-se de somente 4 entradas com \"Other\", podemos simplesmente remover essas entradas também."
      ]
    },
    {
      "cell_type": "code",
      "execution_count": null,
      "metadata": {
        "colab": {
          "base_uri": "https://localhost:8080/"
        },
        "id": "oS73CjM_YMX7",
        "outputId": "6e0e2f27-d1cf-41a2-fa33-e816a5ab2aff"
      },
      "outputs": [
        {
          "output_type": "execute_result",
          "data": {
            "text/plain": [
              "4"
            ]
          },
          "metadata": {},
          "execution_count": 308
        }
      ],
      "source": [
        "len(df[df['region'] == 'Other'])"
      ]
    },
    {
      "cell_type": "code",
      "execution_count": null,
      "metadata": {
        "id": "DuBTMOrFYgkb"
      },
      "outputs": [],
      "source": [
        "indexOthers = df[ df['region'] == 'Other'].index\n",
        "df.drop(indexOthers , inplace=True)"
      ]
    },
    {
      "cell_type": "code",
      "execution_count": null,
      "metadata": {
        "colab": {
          "base_uri": "https://localhost:8080/",
          "height": 519
        },
        "id": "g07J3Y8ScKwx",
        "outputId": "4ab980b1-61cf-41be-9e53-79a2e3a8b21a"
      },
      "outputs": [
        {
          "output_type": "display_data",
          "data": {
            "text/plain": [
              "<Figure size 720x576 with 1 Axes>"
            ],
            "image/png": "[encoded data removed]"
          },
          "metadata": {}
        }
      ],
      "source": [
        "plt.figure(figsize=(10,8))\n",
        "sns.countplot(x=df['region'])\n",
        "plt.xlabel(\"Region\")\n",
        "plt.ylabel(\"Number of occurs\")\n",
        "plt.title('Number of occurs per region')\n",
        "plt.show()"
      ]
    },
    {
      "cell_type": "markdown",
      "source": [
        "Agora, vamos analisar quantos dados estão como NaN na coluna Education."
      ],
      "metadata": {
        "id": "YnHhr4lmKC9v"
      }
    },
    {
      "cell_type": "code",
      "source": [
        "df.info()"
      ],
      "metadata": {
        "colab": {
          "base_uri": "https://localhost:8080/"
        },
        "id": "HW-WTRzOKK8Q",
        "outputId": "d0bcef5c-b158-4210-c8f1-494835a0c5f7"
      },
      "execution_count": null,
      "outputs": [
        {
          "output_type": "stream",
          "name": "stdout",
          "text": [
            "<class 'pandas.core.frame.DataFrame'>\n",
            "Int64Index: 54779 entries, 65438 to 51526\n",
            "Data columns (total 12 columns):\n",
            " #   Column                Non-Null Count  Dtype  \n",
            "---  ------                --------------  -----  \n",
            " 0   department            54779 non-null  object \n",
            " 1   region                54779 non-null  object \n",
            " 2   education             52370 non-null  object \n",
            " 3   gender                54779 non-null  object \n",
            " 4   recruitment_channel   54779 non-null  object \n",
            " 5   no_of_trainings       49935 non-null  float64\n",
            " 6   age                   54779 non-null  int64  \n",
            " 7   previous_year_rating  50659 non-null  float64\n",
            " 8   length_of_service     54779 non-null  int64  \n",
            " 9   awards_won?           54779 non-null  int64  \n",
            " 10  avg_training_score    47324 non-null  float64\n",
            " 11  is_promoted           54779 non-null  int64  \n",
            "dtypes: float64(3), int64(4), object(5)\n",
            "memory usage: 7.4+ MB\n"
          ]
        }
      ]
    },
    {
      "cell_type": "markdown",
      "source": [
        "Pela tabela acima, notamos que são mais de 2000 dados faltantes. Desse modo, irei substituir os espaços vazios pela moda (Bachelor's)."
      ],
      "metadata": {
        "id": "BOMTQXimKomM"
      }
    },
    {
      "cell_type": "code",
      "source": [
        "df['education'] = df['education'].fillna(\"Bachelor's\")"
      ],
      "metadata": {
        "id": "nQCSLrHsLDFc"
      },
      "execution_count": null,
      "outputs": []
    },
    {
      "cell_type": "code",
      "source": [
        "print(\"EDUCATION column unique values:\")\n",
        "print(pd.Series(df.education.unique()), end='\\n\\n')"
      ],
      "metadata": {
        "colab": {
          "base_uri": "https://localhost:8080/"
        },
        "id": "NSkBIVImLkR7",
        "outputId": "90c3c37c-3798-4bb7-f0fd-8397c97e65af"
      },
      "execution_count": null,
      "outputs": [
        {
          "output_type": "stream",
          "name": "stdout",
          "text": [
            "EDUCATION column unique values:\n",
            "0    Master's & above\n",
            "1          Bachelor's\n",
            "2     Below Secondary\n",
            "dtype: object\n",
            "\n"
          ]
        }
      ]
    },
    {
      "cell_type": "code",
      "source": [
        "df.info()"
      ],
      "metadata": {
        "colab": {
          "base_uri": "https://localhost:8080/"
        },
        "id": "DjbpukbCLqbI",
        "outputId": "e2d84959-6e4b-4fe5-9022-f7f688c9114b"
      },
      "execution_count": null,
      "outputs": [
        {
          "output_type": "stream",
          "name": "stdout",
          "text": [
            "<class 'pandas.core.frame.DataFrame'>\n",
            "Int64Index: 54779 entries, 65438 to 51526\n",
            "Data columns (total 12 columns):\n",
            " #   Column                Non-Null Count  Dtype  \n",
            "---  ------                --------------  -----  \n",
            " 0   department            54779 non-null  object \n",
            " 1   region                54779 non-null  object \n",
            " 2   education             54779 non-null  object \n",
            " 3   gender                54779 non-null  object \n",
            " 4   recruitment_channel   54779 non-null  object \n",
            " 5   no_of_trainings       49935 non-null  float64\n",
            " 6   age                   54779 non-null  int64  \n",
            " 7   previous_year_rating  50659 non-null  float64\n",
            " 8   length_of_service     54779 non-null  int64  \n",
            " 9   awards_won?           54779 non-null  int64  \n",
            " 10  avg_training_score    47324 non-null  float64\n",
            " 11  is_promoted           54779 non-null  int64  \n",
            "dtypes: float64(3), int64(4), object(5)\n",
            "memory usage: 7.4+ MB\n"
          ]
        }
      ]
    },
    {
      "cell_type": "markdown",
      "metadata": {
        "id": "Q8jnMxc0dCxT"
      },
      "source": [
        "# Dados Numéricos\n",
        "Vamos agora investigar superficialmente os dados numéricos. De maneira similar ao que fizemos para os dados categóricos, vamos começar utilizando o método `describe`."
      ]
    },
    {
      "cell_type": "code",
      "execution_count": null,
      "metadata": {
        "colab": {
          "base_uri": "https://localhost:8080/",
          "height": 300
        },
        "id": "kGUfg_jxdmD3",
        "outputId": "5988eca0-f425-4ff2-f6d1-8954ccdff38a"
      },
      "outputs": [
        {
          "output_type": "execute_result",
          "data": {
            "text/plain": [
              "       no_of_trainings            age  previous_year_rating  \\\n",
              "count     49935.000000   54779.000000          50659.000000   \n",
              "mean          1.256574     273.647383              3.329339   \n",
              "std           0.612822    5423.996136              1.260037   \n",
              "min           1.000000     -32.000000              1.000000   \n",
              "25%           1.000000      29.000000              3.000000   \n",
              "50%           1.000000      33.000000              3.000000   \n",
              "75%           1.000000      39.000000              4.000000   \n",
              "max          10.000000  123456.000000              5.000000   \n",
              "\n",
              "       length_of_service   awards_won?  avg_training_score   is_promoted  \n",
              "count       54779.000000  54779.000000        47324.000000  54779.000000  \n",
              "mean            5.866500      0.022709           63.514876      0.085087  \n",
              "std             4.265647      0.148977           13.492592      0.279014  \n",
              "min             1.000000      0.000000           39.000000      0.000000  \n",
              "25%             3.000000      0.000000           51.000000      0.000000  \n",
              "50%             5.000000      0.000000           60.000000      0.000000  \n",
              "75%             7.000000      0.000000           77.000000      0.000000  \n",
              "max            37.000000      1.000000           99.000000      1.000000  "
            ],
            "text/html": [
              "\n",
              "  <div id=\"df-3a688001-b96f-4e7e-bae8-9c467b6c54ae\">\n",
              "    <div class=\"colab-df-container\">\n",
              "      <div>\n",
              "<style scoped>\n",
              "    .dataframe tbody tr th:only-of-type {\n",
              "        vertical-align: middle;\n",
              "    }\n",
              "\n",
              "    .dataframe tbody tr th {\n",
              "        vertical-align: top;\n",
              "    }\n",
              "\n",
              "    .dataframe thead th {\n",
              "        text-align: right;\n",
              "    }\n",
              "</style>\n",
              "<table border=\"1\" class=\"dataframe\">\n",
              "  <thead>\n",
              "    <tr style=\"text-align: right;\">\n",
              "      <th></th>\n",
              "      <th>no_of_trainings</th>\n",
              "      <th>age</th>\n",
              "      <th>previous_year_rating</th>\n",
              "      <th>length_of_service</th>\n",
              "      <th>awards_won?</th>\n",
              "      <th>avg_training_score</th>\n",
              "      <th>is_promoted</th>\n",
              "    </tr>\n",
              "  </thead>\n",
              "  <tbody>\n",
              "    <tr>\n",
              "      <th>count</th>\n",
              "      <td>49935.000000</td>\n",
              "      <td>54779.000000</td>\n",
              "      <td>50659.000000</td>\n",
              "      <td>54779.000000</td>\n",
              "      <td>54779.000000</td>\n",
              "      <td>47324.000000</td>\n",
              "      <td>54779.000000</td>\n",
              "    </tr>\n",
              "    <tr>\n",
              "      <th>mean</th>\n",
              "      <td>1.256574</td>\n",
              "      <td>273.647383</td>\n",
              "      <td>3.329339</td>\n",
              "      <td>5.866500</td>\n",
              "      <td>0.022709</td>\n",
              "      <td>63.514876</td>\n",
              "      <td>0.085087</td>\n",
              "    </tr>\n",
              "    <tr>\n",
              "      <th>std</th>\n",
              "      <td>0.612822</td>\n",
              "      <td>5423.996136</td>\n",
              "      <td>1.260037</td>\n",
              "      <td>4.265647</td>\n",
              "      <td>0.148977</td>\n",
              "      <td>13.492592</td>\n",
              "      <td>0.279014</td>\n",
              "    </tr>\n",
              "    <tr>\n",
              "      <th>min</th>\n",
              "      <td>1.000000</td>\n",
              "      <td>-32.000000</td>\n",
              "      <td>1.000000</td>\n",
              "      <td>1.000000</td>\n",
              "      <td>0.000000</td>\n",
              "      <td>39.000000</td>\n",
              "      <td>0.000000</td>\n",
              "    </tr>\n",
              "    <tr>\n",
              "      <th>25%</th>\n",
              "      <td>1.000000</td>\n",
              "      <td>29.000000</td>\n",
              "      <td>3.000000</td>\n",
              "      <td>3.000000</td>\n",
              "      <td>0.000000</td>\n",
              "      <td>51.000000</td>\n",
              "      <td>0.000000</td>\n",
              "    </tr>\n",
              "    <tr>\n",
              "      <th>50%</th>\n",
              "      <td>1.000000</td>\n",
              "      <td>33.000000</td>\n",
              "      <td>3.000000</td>\n",
              "      <td>5.000000</td>\n",
              "      <td>0.000000</td>\n",
              "      <td>60.000000</td>\n",
              "      <td>0.000000</td>\n",
              "    </tr>\n",
              "    <tr>\n",
              "      <th>75%</th>\n",
              "      <td>1.000000</td>\n",
              "      <td>39.000000</td>\n",
              "      <td>4.000000</td>\n",
              "      <td>7.000000</td>\n",
              "      <td>0.000000</td>\n",
              "      <td>77.000000</td>\n",
              "      <td>0.000000</td>\n",
              "    </tr>\n",
              "    <tr>\n",
              "      <th>max</th>\n",
              "      <td>10.000000</td>\n",
              "      <td>123456.000000</td>\n",
              "      <td>5.000000</td>\n",
              "      <td>37.000000</td>\n",
              "      <td>1.000000</td>\n",
              "      <td>99.000000</td>\n",
              "      <td>1.000000</td>\n",
              "    </tr>\n",
              "  </tbody>\n",
              "</table>\n",
              "</div>\n",
              "      <button class=\"colab-df-convert\" onclick=\"convertToInteractive('df-3a688001-b96f-4e7e-bae8-9c467b6c54ae')\"\n",
              "              title=\"Convert this dataframe to an interactive table.\"\n",
              "              style=\"display:none;\">\n",
              "        \n",
              "  <svg xmlns=\"http://www.w3.org/2000/svg\" height=\"24px\"viewBox=\"0 0 24 24\"\n",
              "       width=\"24px\">\n",
              "    <path d=\"M0 0h24v24H0V0z\" fill=\"none\"/>\n",
              "    <path d=\"M18.56 5.44l.94 2.06.94-2.06 2.06-.94-2.06-.94-.94-2.06-.94 2.06-2.06.94zm-11 1L8.5 8.5l.94-2.06 2.06-.94-2.06-.94L8.5 2.5l-.94 2.06-2.06.94zm10 10l.94 2.06.94-2.06 2.06-.94-2.06-.94-.94-2.06-.94 2.06-2.06.94z\"/><path d=\"M17.41 7.96l-1.37-1.37c-.4-.4-.92-.59-1.43-.59-.52 0-1.04.2-1.43.59L10.3 9.45l-7.72 7.72c-.78.78-.78 2.05 0 2.83L4 21.41c.39.39.9.59 1.41.59.51 0 1.02-.2 1.41-.59l7.78-7.78 2.81-2.81c.8-.78.8-2.07 0-2.86zM5.41 20L4 18.59l7.72-7.72 1.47 1.35L5.41 20z\"/>\n",
              "  </svg>\n",
              "      </button>\n",
              "      \n",
              "  <style>\n",
              "    .colab-df-container {\n",
              "      display:flex;\n",
              "      flex-wrap:wrap;\n",
              "      gap: 12px;\n",
              "    }\n",
              "\n",
              "    .colab-df-convert {\n",
              "      background-color: #E8F0FE;\n",
              "      border: none;\n",
              "      border-radius: 50%;\n",
              "      cursor: pointer;\n",
              "      display: none;\n",
              "      fill: #1967D2;\n",
              "      height: 32px;\n",
              "      padding: 0 0 0 0;\n",
              "      width: 32px;\n",
              "    }\n",
              "\n",
              "    .colab-df-convert:hover {\n",
              "      background-color: #E2EBFA;\n",
              "      box-shadow: 0px 1px 2px rgba(60, 64, 67, 0.3), 0px 1px 3px 1px rgba(60, 64, 67, 0.15);\n",
              "      fill: #174EA6;\n",
              "    }\n",
              "\n",
              "    [theme=dark] .colab-df-convert {\n",
              "      background-color: #3B4455;\n",
              "      fill: #D2E3FC;\n",
              "    }\n",
              "\n",
              "    [theme=dark] .colab-df-convert:hover {\n",
              "      background-color: #434B5C;\n",
              "      box-shadow: 0px 1px 3px 1px rgba(0, 0, 0, 0.15);\n",
              "      filter: drop-shadow(0px 1px 2px rgba(0, 0, 0, 0.3));\n",
              "      fill: #FFFFFF;\n",
              "    }\n",
              "  </style>\n",
              "\n",
              "      <script>\n",
              "        const buttonEl =\n",
              "          document.querySelector('#df-3a688001-b96f-4e7e-bae8-9c467b6c54ae button.colab-df-convert');\n",
              "        buttonEl.style.display =\n",
              "          google.colab.kernel.accessAllowed ? 'block' : 'none';\n",
              "\n",
              "        async function convertToInteractive(key) {\n",
              "          const element = document.querySelector('#df-3a688001-b96f-4e7e-bae8-9c467b6c54ae');\n",
              "          const dataTable =\n",
              "            await google.colab.kernel.invokeFunction('convertToInteractive',\n",
              "                                                     [key], {});\n",
              "          if (!dataTable) return;\n",
              "\n",
              "          const docLinkHtml = 'Like what you see? Visit the ' +\n",
              "            '<a target=\"_blank\" href=https://colab.research.google.com/notebooks/data_table.ipynb>data table notebook</a>'\n",
              "            + ' to learn more about interactive tables.';\n",
              "          element.innerHTML = '';\n",
              "          dataTable['output_type'] = 'display_data';\n",
              "          await google.colab.output.renderOutput(dataTable, element);\n",
              "          const docLink = document.createElement('div');\n",
              "          docLink.innerHTML = docLinkHtml;\n",
              "          element.appendChild(docLink);\n",
              "        }\n",
              "      </script>\n",
              "    </div>\n",
              "  </div>\n",
              "  "
            ]
          },
          "metadata": {},
          "execution_count": 315
        }
      ],
      "source": [
        "df.describe()"
      ]
    },
    {
      "cell_type": "code",
      "execution_count": null,
      "metadata": {
        "colab": {
          "base_uri": "https://localhost:8080/",
          "height": 269
        },
        "id": "j38r7hY-eZrh",
        "outputId": "f9e0862f-c092-4e16-e010-e16c4ff584d1"
      },
      "outputs": [
        {
          "output_type": "execute_result",
          "data": {
            "text/plain": [
              "                        count        mean          std   min   25%   50%  \\\n",
              "no_of_trainings       49935.0    1.256574     0.612822   1.0   1.0   1.0   \n",
              "age                   54779.0  273.647383  5423.996136 -32.0  29.0  33.0   \n",
              "previous_year_rating  50659.0    3.329339     1.260037   1.0   3.0   3.0   \n",
              "length_of_service     54779.0    5.866500     4.265647   1.0   3.0   5.0   \n",
              "awards_won?           54779.0    0.022709     0.148977   0.0   0.0   0.0   \n",
              "avg_training_score    47324.0   63.514876    13.492592  39.0  51.0  60.0   \n",
              "is_promoted           54779.0    0.085087     0.279014   0.0   0.0   0.0   \n",
              "\n",
              "                       75%       max  \n",
              "no_of_trainings        1.0      10.0  \n",
              "age                   39.0  123456.0  \n",
              "previous_year_rating   4.0       5.0  \n",
              "length_of_service      7.0      37.0  \n",
              "awards_won?            0.0       1.0  \n",
              "avg_training_score    77.0      99.0  \n",
              "is_promoted            0.0       1.0  "
            ],
            "text/html": [
              "\n",
              "  <div id=\"df-444ae755-2f17-4c23-9ae9-3d3fe2eae605\">\n",
              "    <div class=\"colab-df-container\">\n",
              "      <div>\n",
              "<style scoped>\n",
              "    .dataframe tbody tr th:only-of-type {\n",
              "        vertical-align: middle;\n",
              "    }\n",
              "\n",
              "    .dataframe tbody tr th {\n",
              "        vertical-align: top;\n",
              "    }\n",
              "\n",
              "    .dataframe thead th {\n",
              "        text-align: right;\n",
              "    }\n",
              "</style>\n",
              "<table border=\"1\" class=\"dataframe\">\n",
              "  <thead>\n",
              "    <tr style=\"text-align: right;\">\n",
              "      <th></th>\n",
              "      <th>count</th>\n",
              "      <th>mean</th>\n",
              "      <th>std</th>\n",
              "      <th>min</th>\n",
              "      <th>25%</th>\n",
              "      <th>50%</th>\n",
              "      <th>75%</th>\n",
              "      <th>max</th>\n",
              "    </tr>\n",
              "  </thead>\n",
              "  <tbody>\n",
              "    <tr>\n",
              "      <th>no_of_trainings</th>\n",
              "      <td>49935.0</td>\n",
              "      <td>1.256574</td>\n",
              "      <td>0.612822</td>\n",
              "      <td>1.0</td>\n",
              "      <td>1.0</td>\n",
              "      <td>1.0</td>\n",
              "      <td>1.0</td>\n",
              "      <td>10.0</td>\n",
              "    </tr>\n",
              "    <tr>\n",
              "      <th>age</th>\n",
              "      <td>54779.0</td>\n",
              "      <td>273.647383</td>\n",
              "      <td>5423.996136</td>\n",
              "      <td>-32.0</td>\n",
              "      <td>29.0</td>\n",
              "      <td>33.0</td>\n",
              "      <td>39.0</td>\n",
              "      <td>123456.0</td>\n",
              "    </tr>\n",
              "    <tr>\n",
              "      <th>previous_year_rating</th>\n",
              "      <td>50659.0</td>\n",
              "      <td>3.329339</td>\n",
              "      <td>1.260037</td>\n",
              "      <td>1.0</td>\n",
              "      <td>3.0</td>\n",
              "      <td>3.0</td>\n",
              "      <td>4.0</td>\n",
              "      <td>5.0</td>\n",
              "    </tr>\n",
              "    <tr>\n",
              "      <th>length_of_service</th>\n",
              "      <td>54779.0</td>\n",
              "      <td>5.866500</td>\n",
              "      <td>4.265647</td>\n",
              "      <td>1.0</td>\n",
              "      <td>3.0</td>\n",
              "      <td>5.0</td>\n",
              "      <td>7.0</td>\n",
              "      <td>37.0</td>\n",
              "    </tr>\n",
              "    <tr>\n",
              "      <th>awards_won?</th>\n",
              "      <td>54779.0</td>\n",
              "      <td>0.022709</td>\n",
              "      <td>0.148977</td>\n",
              "      <td>0.0</td>\n",
              "      <td>0.0</td>\n",
              "      <td>0.0</td>\n",
              "      <td>0.0</td>\n",
              "      <td>1.0</td>\n",
              "    </tr>\n",
              "    <tr>\n",
              "      <th>avg_training_score</th>\n",
              "      <td>47324.0</td>\n",
              "      <td>63.514876</td>\n",
              "      <td>13.492592</td>\n",
              "      <td>39.0</td>\n",
              "      <td>51.0</td>\n",
              "      <td>60.0</td>\n",
              "      <td>77.0</td>\n",
              "      <td>99.0</td>\n",
              "    </tr>\n",
              "    <tr>\n",
              "      <th>is_promoted</th>\n",
              "      <td>54779.0</td>\n",
              "      <td>0.085087</td>\n",
              "      <td>0.279014</td>\n",
              "      <td>0.0</td>\n",
              "      <td>0.0</td>\n",
              "      <td>0.0</td>\n",
              "      <td>0.0</td>\n",
              "      <td>1.0</td>\n",
              "    </tr>\n",
              "  </tbody>\n",
              "</table>\n",
              "</div>\n",
              "      <button class=\"colab-df-convert\" onclick=\"convertToInteractive('df-444ae755-2f17-4c23-9ae9-3d3fe2eae605')\"\n",
              "              title=\"Convert this dataframe to an interactive table.\"\n",
              "              style=\"display:none;\">\n",
              "        \n",
              "  <svg xmlns=\"http://www.w3.org/2000/svg\" height=\"24px\"viewBox=\"0 0 24 24\"\n",
              "       width=\"24px\">\n",
              "    <path d=\"M0 0h24v24H0V0z\" fill=\"none\"/>\n",
              "    <path d=\"M18.56 5.44l.94 2.06.94-2.06 2.06-.94-2.06-.94-.94-2.06-.94 2.06-2.06.94zm-11 1L8.5 8.5l.94-2.06 2.06-.94-2.06-.94L8.5 2.5l-.94 2.06-2.06.94zm10 10l.94 2.06.94-2.06 2.06-.94-2.06-.94-.94-2.06-.94 2.06-2.06.94z\"/><path d=\"M17.41 7.96l-1.37-1.37c-.4-.4-.92-.59-1.43-.59-.52 0-1.04.2-1.43.59L10.3 9.45l-7.72 7.72c-.78.78-.78 2.05 0 2.83L4 21.41c.39.39.9.59 1.41.59.51 0 1.02-.2 1.41-.59l7.78-7.78 2.81-2.81c.8-.78.8-2.07 0-2.86zM5.41 20L4 18.59l7.72-7.72 1.47 1.35L5.41 20z\"/>\n",
              "  </svg>\n",
              "      </button>\n",
              "      \n",
              "  <style>\n",
              "    .colab-df-container {\n",
              "      display:flex;\n",
              "      flex-wrap:wrap;\n",
              "      gap: 12px;\n",
              "    }\n",
              "\n",
              "    .colab-df-convert {\n",
              "      background-color: #E8F0FE;\n",
              "      border: none;\n",
              "      border-radius: 50%;\n",
              "      cursor: pointer;\n",
              "      display: none;\n",
              "      fill: #1967D2;\n",
              "      height: 32px;\n",
              "      padding: 0 0 0 0;\n",
              "      width: 32px;\n",
              "    }\n",
              "\n",
              "    .colab-df-convert:hover {\n",
              "      background-color: #E2EBFA;\n",
              "      box-shadow: 0px 1px 2px rgba(60, 64, 67, 0.3), 0px 1px 3px 1px rgba(60, 64, 67, 0.15);\n",
              "      fill: #174EA6;\n",
              "    }\n",
              "\n",
              "    [theme=dark] .colab-df-convert {\n",
              "      background-color: #3B4455;\n",
              "      fill: #D2E3FC;\n",
              "    }\n",
              "\n",
              "    [theme=dark] .colab-df-convert:hover {\n",
              "      background-color: #434B5C;\n",
              "      box-shadow: 0px 1px 3px 1px rgba(0, 0, 0, 0.15);\n",
              "      filter: drop-shadow(0px 1px 2px rgba(0, 0, 0, 0.3));\n",
              "      fill: #FFFFFF;\n",
              "    }\n",
              "  </style>\n",
              "\n",
              "      <script>\n",
              "        const buttonEl =\n",
              "          document.querySelector('#df-444ae755-2f17-4c23-9ae9-3d3fe2eae605 button.colab-df-convert');\n",
              "        buttonEl.style.display =\n",
              "          google.colab.kernel.accessAllowed ? 'block' : 'none';\n",
              "\n",
              "        async function convertToInteractive(key) {\n",
              "          const element = document.querySelector('#df-444ae755-2f17-4c23-9ae9-3d3fe2eae605');\n",
              "          const dataTable =\n",
              "            await google.colab.kernel.invokeFunction('convertToInteractive',\n",
              "                                                     [key], {});\n",
              "          if (!dataTable) return;\n",
              "\n",
              "          const docLinkHtml = 'Like what you see? Visit the ' +\n",
              "            '<a target=\"_blank\" href=https://colab.research.google.com/notebooks/data_table.ipynb>data table notebook</a>'\n",
              "            + ' to learn more about interactive tables.';\n",
              "          element.innerHTML = '';\n",
              "          dataTable['output_type'] = 'display_data';\n",
              "          await google.colab.output.renderOutput(dataTable, element);\n",
              "          const docLink = document.createElement('div');\n",
              "          docLink.innerHTML = docLinkHtml;\n",
              "          element.appendChild(docLink);\n",
              "        }\n",
              "      </script>\n",
              "    </div>\n",
              "  </div>\n",
              "  "
            ]
          },
          "metadata": {},
          "execution_count": 316
        }
      ],
      "source": [
        "# Vamos utilizando \".T\" (transpose), pois como temos muitas features é melhor de visualizar os dados dessa forma.\n",
        "df.describe().T"
      ]
    },
    {
      "cell_type": "markdown",
      "metadata": {
        "id": "2Q3kMACMOjF7"
      },
      "source": [
        "Analisando com calma os dados acima, podemos ver um grande problema com a coluna de idade (age) que apresenta média de 273, mínima de -32 e máxima de 123456. Vamos analisá-la com mais calma. Veja:"
      ]
    },
    {
      "cell_type": "markdown",
      "source": [
        "###Coluna age"
      ],
      "metadata": {
        "id": "Y2LgZv0X_x29"
      }
    },
    {
      "cell_type": "code",
      "execution_count": null,
      "metadata": {
        "colab": {
          "base_uri": "https://localhost:8080/",
          "height": 379
        },
        "id": "UG-Rue0WOjF8",
        "outputId": "5f5d72fd-c56b-4b0a-c8b5-effdb947653e"
      },
      "outputs": [
        {
          "output_type": "stream",
          "name": "stderr",
          "text": [
            "/usr/local/lib/python3.7/dist-packages/seaborn/distributions.py:2619: FutureWarning:\n",
            "\n",
            "`distplot` is a deprecated function and will be removed in a future version. Please adapt your code to use either `displot` (a figure-level function with similar flexibility) or `histplot` (an axes-level function for histograms).\n",
            "\n"
          ]
        },
        {
          "output_type": "execute_result",
          "data": {
            "text/plain": [
              "<matplotlib.axes._subplots.AxesSubplot at 0x7ff37b8b6110>"
            ]
          },
          "metadata": {},
          "execution_count": 317
        },
        {
          "output_type": "display_data",
          "data": {
            "text/plain": [
              "<Figure size 432x288 with 1 Axes>"
            ],
            "image/png": "[encoded data removed]"
          },
          "metadata": {}
        }
      ],
      "source": [
        "sns.distplot(x = df['age'].dropna())"
      ]
    },
    {
      "cell_type": "markdown",
      "metadata": {
        "id": "wdhJ0Gj1OjF-"
      },
      "source": [
        "Podemos ver que o fato de uma pessoa apresentar uma idade tão alta, chega a distorcer o gráfico de idades, vamos então excluir valores menores que zero e maiores que 110. Esses valores que estão muito discrepantes dos demais são chamados de **outliers**."
      ]
    },
    {
      "cell_type": "code",
      "execution_count": null,
      "metadata": {
        "colab": {
          "base_uri": "https://localhost:8080/",
          "height": 611
        },
        "id": "t-HoWP_KOjF_",
        "outputId": "a6c09f26-4ea3-470f-af25-207956103d44"
      },
      "outputs": [
        {
          "output_type": "stream",
          "name": "stderr",
          "text": [
            "/usr/local/lib/python3.7/dist-packages/seaborn/distributions.py:2619: FutureWarning:\n",
            "\n",
            "`distplot` is a deprecated function and will be removed in a future version. Please adapt your code to use either `displot` (a figure-level function with similar flexibility) or `histplot` (an axes-level function for histograms).\n",
            "\n"
          ]
        },
        {
          "output_type": "display_data",
          "data": {
            "text/plain": [
              "<Figure size 720x576 with 1 Axes>"
            ],
            "image/png": "[encoded data removed]"
          },
          "metadata": {}
        }
      ],
      "source": [
        "df = df[df['age'] > 0]\n",
        "df = df[df['age'] <= 110]\n",
        "# ou\n",
        "df = df.query('0<age<110')\n",
        "\n",
        "#vamos plotar novamente o gráfico e ver o que mudou\n",
        "plt.figure(figsize=(10,8))\n",
        "sns.distplot(x=df['age'].dropna())\n",
        "plt.xlabel(\"Age\")\n",
        "plt.ylabel(\"Density\")\n",
        "plt.title('Number of occurs per age')\n",
        "plt.show()"
      ]
    },
    {
      "cell_type": "markdown",
      "metadata": {
        "id": "iYmGPKMPxyRn"
      },
      "source": [
        "Pronto! Arrumamos a tabela que estava com problemas. vamos visualizar a distribuição dos dados de tal coluna utilizando um outro tipo de gráfico: **Boxplot**!"
      ]
    },
    {
      "cell_type": "code",
      "execution_count": null,
      "metadata": {
        "colab": {
          "base_uri": "https://localhost:8080/",
          "height": 482
        },
        "id": "_gs9ewADOjGA",
        "outputId": "2ee4ec0d-ea54-4daa-a9a3-6eb42e40c6c0"
      },
      "outputs": [
        {
          "output_type": "display_data",
          "data": {
            "text/plain": [
              "<Figure size 360x576 with 1 Axes>"
            ],
            "image/png": "[encoded data removed]"
          },
          "metadata": {}
        }
      ],
      "source": [
        "plt.figure(figsize=(5,8))\n",
        "sns.boxplot(y=df['age'])\n",
        "plt.title(\"Boxplot da coluna de Idade (age)\")\n",
        "plt.show()"
      ]
    },
    {
      "cell_type": "markdown",
      "metadata": {
        "id": "RwrwkIiaOjGC"
      },
      "source": [
        "Com o boxplot, podemos identificar alguns outliers (pontos fora do boxplot) contudo, não deveríamos retirá-los, uma vez que essa idades são até cabíveis para nosso dataset. Dessa forma, é importante notar que **outliers não necessariamente são dados que devem ser retirados do seu dataset**."
      ]
    },
    {
      "cell_type": "code",
      "source": [
        "df.info()"
      ],
      "metadata": {
        "colab": {
          "base_uri": "https://localhost:8080/"
        },
        "id": "v4DcQSu19qDW",
        "outputId": "9ab2397b-629f-4ce8-ae84-7e8243b4e21e"
      },
      "execution_count": null,
      "outputs": [
        {
          "output_type": "stream",
          "name": "stdout",
          "text": [
            "<class 'pandas.core.frame.DataFrame'>\n",
            "Int64Index: 54670 entries, 65438 to 51526\n",
            "Data columns (total 12 columns):\n",
            " #   Column                Non-Null Count  Dtype  \n",
            "---  ------                --------------  -----  \n",
            " 0   department            54670 non-null  object \n",
            " 1   region                54670 non-null  object \n",
            " 2   education             54670 non-null  object \n",
            " 3   gender                54670 non-null  object \n",
            " 4   recruitment_channel   54670 non-null  object \n",
            " 5   no_of_trainings       49850 non-null  float64\n",
            " 6   age                   54670 non-null  int64  \n",
            " 7   previous_year_rating  50593 non-null  float64\n",
            " 8   length_of_service     54670 non-null  int64  \n",
            " 9   awards_won?           54670 non-null  int64  \n",
            " 10  avg_training_score    47240 non-null  float64\n",
            " 11  is_promoted           54670 non-null  int64  \n",
            "dtypes: float64(3), int64(4), object(5)\n",
            "memory usage: 5.4+ MB\n"
          ]
        }
      ]
    },
    {
      "cell_type": "markdown",
      "metadata": {
        "id": "6taen9BVJLPV"
      },
      "source": [
        "###Coluna length of service\n",
        "\n",
        "Outra feature que podemos analisar é length_of_service a qual apresenta muitos outliers. Entretanto os valores são consistentes como vemos abaixo."
      ]
    },
    {
      "cell_type": "code",
      "execution_count": null,
      "metadata": {
        "colab": {
          "base_uri": "https://localhost:8080/",
          "height": 379
        },
        "id": "MtP9fIlVKQHZ",
        "outputId": "93f9c596-1844-4861-f773-887a43dcfe2c"
      },
      "outputs": [
        {
          "output_type": "stream",
          "name": "stderr",
          "text": [
            "/usr/local/lib/python3.7/dist-packages/seaborn/distributions.py:2619: FutureWarning:\n",
            "\n",
            "`distplot` is a deprecated function and will be removed in a future version. Please adapt your code to use either `displot` (a figure-level function with similar flexibility) or `histplot` (an axes-level function for histograms).\n",
            "\n"
          ]
        },
        {
          "output_type": "execute_result",
          "data": {
            "text/plain": [
              "<matplotlib.axes._subplots.AxesSubplot at 0x7ff37d9a5110>"
            ]
          },
          "metadata": {},
          "execution_count": 321
        },
        {
          "output_type": "display_data",
          "data": {
            "text/plain": [
              "<Figure size 432x288 with 1 Axes>"
            ],
            "image/png": "[encoded data removed]"
          },
          "metadata": {}
        }
      ],
      "source": [
        "sns.distplot(x = df['length_of_service'].dropna())"
      ]
    },
    {
      "cell_type": "code",
      "execution_count": null,
      "metadata": {
        "colab": {
          "base_uri": "https://localhost:8080/",
          "height": 482
        },
        "id": "rbeb2ZB_Jwp6",
        "outputId": "f8faf017-7e37-43d2-9b66-5f720ade7a83"
      },
      "outputs": [
        {
          "output_type": "display_data",
          "data": {
            "text/plain": [
              "<Figure size 360x576 with 1 Axes>"
            ],
            "image/png": "[encoded data removed]"
          },
          "metadata": {}
        }
      ],
      "source": [
        "plt.figure(figsize=(5,8))\n",
        "sns.boxplot(y=df['length_of_service'])\n",
        "plt.title(\"Boxplot da coluna length_of_service\")\n",
        "plt.show()"
      ]
    },
    {
      "cell_type": "markdown",
      "source": [
        "###Coluna no of trainings"
      ],
      "metadata": {
        "id": "42gbeNwb_6le"
      }
    },
    {
      "cell_type": "code",
      "source": [
        "sns.distplot(x = df['no_of_trainings'].dropna())"
      ],
      "metadata": {
        "colab": {
          "base_uri": "https://localhost:8080/",
          "height": 379
        },
        "id": "ukQo57nOAGP1",
        "outputId": "beacbe7a-3336-4bee-c549-9cd1ff4586b3"
      },
      "execution_count": null,
      "outputs": [
        {
          "output_type": "stream",
          "name": "stderr",
          "text": [
            "/usr/local/lib/python3.7/dist-packages/seaborn/distributions.py:2619: FutureWarning:\n",
            "\n",
            "`distplot` is a deprecated function and will be removed in a future version. Please adapt your code to use either `displot` (a figure-level function with similar flexibility) or `histplot` (an axes-level function for histograms).\n",
            "\n"
          ]
        },
        {
          "output_type": "execute_result",
          "data": {
            "text/plain": [
              "<matplotlib.axes._subplots.AxesSubplot at 0x7ff37daa3550>"
            ]
          },
          "metadata": {},
          "execution_count": 190
        },
        {
          "output_type": "display_data",
          "data": {
            "text/plain": [
              "<Figure size 432x288 with 1 Axes>"
            ],
            "image/png": "[encoded data removed]"
          },
          "metadata": {}
        }
      ]
    },
    {
      "cell_type": "code",
      "source": [
        "plt.figure(figsize=(5,8))\n",
        "sns.boxplot(y=df['no_of_trainings'])\n",
        "plt.title(\"Boxplot da coluna no_of_trainings\")\n",
        "plt.show()"
      ],
      "metadata": {
        "colab": {
          "base_uri": "https://localhost:8080/",
          "height": 482
        },
        "id": "X4BgCyv8APYe",
        "outputId": "22c123a9-1526-4404-e5d0-15f92e044d2f"
      },
      "execution_count": null,
      "outputs": [
        {
          "output_type": "display_data",
          "data": {
            "text/plain": [
              "<Figure size 360x576 with 1 Axes>"
            ],
            "image/png": "[encoded data removed]"
          },
          "metadata": {}
        }
      ]
    },
    {
      "cell_type": "markdown",
      "source": [
        "Observamos que há vários outliers. Além disso há muitos dados faltantes:"
      ],
      "metadata": {
        "id": "gbIDcR5lBEGQ"
      }
    },
    {
      "cell_type": "code",
      "source": [
        "print(\"NO_OF_TRAININGS column unique values:\")\n",
        "print(pd.Series(df.no_of_trainings.unique()), end='\\n\\n')"
      ],
      "metadata": {
        "colab": {
          "base_uri": "https://localhost:8080/"
        },
        "id": "MvlZZI1xTCQj",
        "outputId": "b95818f3-2600-4e91-9755-e8007688d209"
      },
      "execution_count": null,
      "outputs": [
        {
          "output_type": "stream",
          "name": "stdout",
          "text": [
            "NO_OF_TRAININGS column unique values:\n",
            "0      1.0\n",
            "1      2.0\n",
            "2      NaN\n",
            "3      3.0\n",
            "4      4.0\n",
            "5      7.0\n",
            "6      5.0\n",
            "7      6.0\n",
            "8      8.0\n",
            "9     10.0\n",
            "10     9.0\n",
            "dtype: float64\n",
            "\n"
          ]
        }
      ]
    },
    {
      "cell_type": "code",
      "source": [
        "df.info()"
      ],
      "metadata": {
        "colab": {
          "base_uri": "https://localhost:8080/"
        },
        "id": "-MwWZGyiRoCG",
        "outputId": "f83d0780-1364-4683-cfb0-e24e9b974879"
      },
      "execution_count": null,
      "outputs": [
        {
          "output_type": "stream",
          "name": "stdout",
          "text": [
            "<class 'pandas.core.frame.DataFrame'>\n",
            "Int64Index: 54670 entries, 65438 to 51526\n",
            "Data columns (total 12 columns):\n",
            " #   Column                Non-Null Count  Dtype  \n",
            "---  ------                --------------  -----  \n",
            " 0   department            54670 non-null  object \n",
            " 1   region                54670 non-null  object \n",
            " 2   education             54670 non-null  object \n",
            " 3   gender                54670 non-null  object \n",
            " 4   recruitment_channel   54670 non-null  object \n",
            " 5   no_of_trainings       49850 non-null  float64\n",
            " 6   age                   54670 non-null  int64  \n",
            " 7   previous_year_rating  50593 non-null  float64\n",
            " 8   length_of_service     54670 non-null  int64  \n",
            " 9   awards_won?           54670 non-null  int64  \n",
            " 10  avg_training_score    47240 non-null  float64\n",
            " 11  is_promoted           54670 non-null  int64  \n",
            "dtypes: float64(3), int64(4), object(5)\n",
            "memory usage: 5.4+ MB\n"
          ]
        }
      ]
    },
    {
      "cell_type": "code",
      "source": [
        "len(df[df['no_of_trainings']==1])"
      ],
      "metadata": {
        "colab": {
          "base_uri": "https://localhost:8080/"
        },
        "id": "xS2SlUS-R4Sm",
        "outputId": "69ad6ef7-5905-4c91-ef3f-a380dcb50f98"
      },
      "execution_count": null,
      "outputs": [
        {
          "output_type": "execute_result",
          "data": {
            "text/plain": [
              "40260"
            ]
          },
          "metadata": {},
          "execution_count": 329
        }
      ]
    },
    {
      "cell_type": "markdown",
      "source": [
        "Desse modo, como notamos que há grande densidade no valor 1 (moda). Desse modo, irei substituir os dados faltantes por 1."
      ],
      "metadata": {
        "id": "3cs2z3LiRtKO"
      }
    },
    {
      "cell_type": "code",
      "source": [
        "df['no_of_trainings'] = df['no_of_trainings'].fillna(1)"
      ],
      "metadata": {
        "id": "2-G5C9IXStdq"
      },
      "execution_count": null,
      "outputs": []
    },
    {
      "cell_type": "code",
      "source": [
        "print(\"NO_OF_TRAININGS column unique values:\")\n",
        "print(pd.Series(df.no_of_trainings.unique()), end='\\n\\n')"
      ],
      "metadata": {
        "colab": {
          "base_uri": "https://localhost:8080/"
        },
        "id": "qa4gutI4TVKd",
        "outputId": "cf69fb60-ec71-4dda-aead-66d6cc5c5340"
      },
      "execution_count": null,
      "outputs": [
        {
          "output_type": "stream",
          "name": "stdout",
          "text": [
            "NO_OF_TRAININGS column unique values:\n",
            "0     1.0\n",
            "1     2.0\n",
            "2     3.0\n",
            "3     4.0\n",
            "4     7.0\n",
            "5     5.0\n",
            "6     6.0\n",
            "7     8.0\n",
            "8    10.0\n",
            "9     9.0\n",
            "dtype: float64\n",
            "\n"
          ]
        }
      ]
    },
    {
      "cell_type": "code",
      "source": [
        "df.info()"
      ],
      "metadata": {
        "colab": {
          "base_uri": "https://localhost:8080/"
        },
        "id": "MRGKHHAQTcWT",
        "outputId": "d71a2258-2f2e-4e2d-d223-f421d8e9d52c"
      },
      "execution_count": null,
      "outputs": [
        {
          "output_type": "stream",
          "name": "stdout",
          "text": [
            "<class 'pandas.core.frame.DataFrame'>\n",
            "Int64Index: 54670 entries, 65438 to 51526\n",
            "Data columns (total 12 columns):\n",
            " #   Column                Non-Null Count  Dtype  \n",
            "---  ------                --------------  -----  \n",
            " 0   department            54670 non-null  object \n",
            " 1   region                54670 non-null  object \n",
            " 2   education             54670 non-null  object \n",
            " 3   gender                54670 non-null  object \n",
            " 4   recruitment_channel   54670 non-null  object \n",
            " 5   no_of_trainings       54670 non-null  float64\n",
            " 6   age                   54670 non-null  int64  \n",
            " 7   previous_year_rating  50593 non-null  float64\n",
            " 8   length_of_service     54670 non-null  int64  \n",
            " 9   awards_won?           54670 non-null  int64  \n",
            " 10  avg_training_score    47240 non-null  float64\n",
            " 11  is_promoted           54670 non-null  int64  \n",
            "dtypes: float64(3), int64(4), object(5)\n",
            "memory usage: 5.4+ MB\n"
          ]
        }
      ]
    },
    {
      "cell_type": "markdown",
      "source": [
        "###Coluna previous year rating"
      ],
      "metadata": {
        "id": "4M7jNSUABIqu"
      }
    },
    {
      "cell_type": "code",
      "source": [
        "sns.distplot(x = df['previous_year_rating'].dropna())"
      ],
      "metadata": {
        "colab": {
          "base_uri": "https://localhost:8080/",
          "height": 379
        },
        "id": "4rjDyPOhBMfM",
        "outputId": "fc044dcb-9180-4778-b040-99a0b507ec23"
      },
      "execution_count": null,
      "outputs": [
        {
          "output_type": "stream",
          "name": "stderr",
          "text": [
            "/usr/local/lib/python3.7/dist-packages/seaborn/distributions.py:2619: FutureWarning:\n",
            "\n",
            "`distplot` is a deprecated function and will be removed in a future version. Please adapt your code to use either `displot` (a figure-level function with similar flexibility) or `histplot` (an axes-level function for histograms).\n",
            "\n"
          ]
        },
        {
          "output_type": "execute_result",
          "data": {
            "text/plain": [
              "<matplotlib.axes._subplots.AxesSubplot at 0x7ff381235c50>"
            ]
          },
          "metadata": {},
          "execution_count": 193
        },
        {
          "output_type": "display_data",
          "data": {
            "text/plain": [
              "<Figure size 432x288 with 1 Axes>"
            ],
            "image/png": "[encoded data removed]"
          },
          "metadata": {}
        }
      ]
    },
    {
      "cell_type": "code",
      "source": [
        "plt.figure(figsize=(5,8))\n",
        "sns.boxplot(y=df['previous_year_rating'])\n",
        "plt.title(\"Boxplot da coluna previous_year_rating\")\n",
        "plt.show()"
      ],
      "metadata": {
        "colab": {
          "base_uri": "https://localhost:8080/",
          "height": 482
        },
        "id": "YS6Si4kxBUk0",
        "outputId": "6a9dc3ca-0557-4cbf-eadb-0db320619af6"
      },
      "execution_count": null,
      "outputs": [
        {
          "output_type": "display_data",
          "data": {
            "text/plain": [
              "<Figure size 360x576 with 1 Axes>"
            ],
            "image/png": "[encoded data removed]"
          },
          "metadata": {}
        }
      ]
    },
    {
      "cell_type": "code",
      "source": [
        "len(df[df['previous_year_rating']==1])"
      ],
      "metadata": {
        "colab": {
          "base_uri": "https://localhost:8080/"
        },
        "id": "vcqbedmJCHPh",
        "outputId": "0d55019b-b6f6-4404-c048-d6269c586b6f"
      },
      "execution_count": null,
      "outputs": [
        {
          "output_type": "execute_result",
          "data": {
            "text/plain": [
              "5091"
            ]
          },
          "metadata": {},
          "execution_count": 202
        }
      ]
    },
    {
      "cell_type": "markdown",
      "source": [
        "Observamos que esta coluna apresenta um outlier no ponto 1. Apesar disso, é um dado consistente e podemos considerá-lo na nossa análise. Além disso há uma quantidade de dados faltantes consideravelmente grandes. Assim, substituirei pela moda (3)"
      ],
      "metadata": {
        "id": "lwPxT_nkCZwk"
      }
    },
    {
      "cell_type": "code",
      "source": [
        "print(\"PREVIOUS_YEAR_RATING column unique values:\")\n",
        "print(pd.Series(df.previous_year_rating.unique()), end='\\n\\n')"
      ],
      "metadata": {
        "colab": {
          "base_uri": "https://localhost:8080/"
        },
        "id": "wMl9etlPULtK",
        "outputId": "d2b24369-c242-4c12-fba1-f7278afdfa8a"
      },
      "execution_count": null,
      "outputs": [
        {
          "output_type": "stream",
          "name": "stdout",
          "text": [
            "PREVIOUS_YEAR_RATING column unique values:\n",
            "0    5.0\n",
            "1    3.0\n",
            "2    1.0\n",
            "3    4.0\n",
            "4    NaN\n",
            "5    2.0\n",
            "dtype: float64\n",
            "\n"
          ]
        }
      ]
    },
    {
      "cell_type": "code",
      "source": [
        "df['previous_year_rating'] = df['previous_year_rating'].fillna(3)"
      ],
      "metadata": {
        "id": "2m5uEkg1Ui9-"
      },
      "execution_count": null,
      "outputs": []
    },
    {
      "cell_type": "code",
      "source": [
        "#atualizado\n",
        "df.info()"
      ],
      "metadata": {
        "colab": {
          "base_uri": "https://localhost:8080/"
        },
        "id": "pGdpJM8TVVPq",
        "outputId": "2fa02aa1-9923-4f1d-d6a5-f03c8eae9854"
      },
      "execution_count": null,
      "outputs": [
        {
          "output_type": "stream",
          "name": "stdout",
          "text": [
            "<class 'pandas.core.frame.DataFrame'>\n",
            "Int64Index: 54670 entries, 65438 to 51526\n",
            "Data columns (total 12 columns):\n",
            " #   Column                Non-Null Count  Dtype  \n",
            "---  ------                --------------  -----  \n",
            " 0   department            54670 non-null  object \n",
            " 1   region                54670 non-null  object \n",
            " 2   education             54670 non-null  object \n",
            " 3   gender                54670 non-null  object \n",
            " 4   recruitment_channel   54670 non-null  object \n",
            " 5   no_of_trainings       54670 non-null  float64\n",
            " 6   age                   54670 non-null  int64  \n",
            " 7   previous_year_rating  54670 non-null  float64\n",
            " 8   length_of_service     54670 non-null  int64  \n",
            " 9   awards_won?           54670 non-null  int64  \n",
            " 10  avg_training_score    47240 non-null  float64\n",
            " 11  is_promoted           54670 non-null  int64  \n",
            "dtypes: float64(3), int64(4), object(5)\n",
            "memory usage: 5.4+ MB\n"
          ]
        }
      ]
    },
    {
      "cell_type": "markdown",
      "source": [
        "###Coluna awards won"
      ],
      "metadata": {
        "id": "WImydtgBDHTM"
      }
    },
    {
      "cell_type": "code",
      "source": [
        "sns.distplot(x = df['awards_won?'].dropna())"
      ],
      "metadata": {
        "colab": {
          "base_uri": "https://localhost:8080/",
          "height": 379
        },
        "id": "WBOyxLquDaw3",
        "outputId": "b60c8867-8a10-45e6-a127-9b1b95d5aa08"
      },
      "execution_count": null,
      "outputs": [
        {
          "output_type": "stream",
          "name": "stderr",
          "text": [
            "/usr/local/lib/python3.7/dist-packages/seaborn/distributions.py:2619: FutureWarning:\n",
            "\n",
            "`distplot` is a deprecated function and will be removed in a future version. Please adapt your code to use either `displot` (a figure-level function with similar flexibility) or `histplot` (an axes-level function for histograms).\n",
            "\n"
          ]
        },
        {
          "output_type": "execute_result",
          "data": {
            "text/plain": [
              "<matplotlib.axes._subplots.AxesSubplot at 0x7ff3812498d0>"
            ]
          },
          "metadata": {},
          "execution_count": 341
        },
        {
          "output_type": "display_data",
          "data": {
            "text/plain": [
              "<Figure size 432x288 with 1 Axes>"
            ],
            "image/png": "[encoded data removed]"
          },
          "metadata": {}
        }
      ]
    },
    {
      "cell_type": "code",
      "source": [
        "plt.figure(figsize=(5,8))\n",
        "sns.boxplot(y=df['awards_won?'])\n",
        "plt.title(\"Boxplot da coluna awards_won?\")\n",
        "plt.show()"
      ],
      "metadata": {
        "colab": {
          "base_uri": "https://localhost:8080/",
          "height": 482
        },
        "id": "sEEcBAyXDlSK",
        "outputId": "88201c33-53b7-408a-ff9d-07dfd3ea5619"
      },
      "execution_count": null,
      "outputs": [
        {
          "output_type": "display_data",
          "data": {
            "text/plain": [
              "<Figure size 360x576 with 1 Axes>"
            ],
            "image/png": "[encoded data removed]"
          },
          "metadata": {}
        }
      ]
    },
    {
      "cell_type": "code",
      "source": [
        "len(df[df['awards_won?']==1])"
      ],
      "metadata": {
        "colab": {
          "base_uri": "https://localhost:8080/"
        },
        "id": "oILqHf1KDq-v",
        "outputId": "d01ff459-c7fa-4808-bb7d-ffe9eb6dd32d"
      },
      "execution_count": null,
      "outputs": [
        {
          "output_type": "execute_result",
          "data": {
            "text/plain": [
              "1240"
            ]
          },
          "metadata": {},
          "execution_count": 343
        }
      ]
    },
    {
      "cell_type": "markdown",
      "source": [
        "Observamos que esta coluna apresenta um outlier no ponto 1, assim como na coluna previous_year_rating. Apesar disso, é um dado que pode ter alta influência na target, então podemos considerá-lo na nossa análise."
      ],
      "metadata": {
        "id": "1eORDV3cD_K2"
      }
    },
    {
      "cell_type": "markdown",
      "metadata": {
        "id": "BaAIv2rtOjGD"
      },
      "source": [
        "###Coluna de Média nas Avaliações de Treinamento Atuais"
      ]
    },
    {
      "cell_type": "code",
      "execution_count": null,
      "metadata": {
        "colab": {
          "base_uri": "https://localhost:8080/",
          "height": 611
        },
        "id": "xCHiku_ROjGD",
        "outputId": "ea61814f-8fa4-427a-b3de-c3b5db380b35"
      },
      "outputs": [
        {
          "output_type": "stream",
          "name": "stderr",
          "text": [
            "/usr/local/lib/python3.7/dist-packages/seaborn/distributions.py:2619: FutureWarning:\n",
            "\n",
            "`distplot` is a deprecated function and will be removed in a future version. Please adapt your code to use either `displot` (a figure-level function with similar flexibility) or `histplot` (an axes-level function for histograms).\n",
            "\n"
          ]
        },
        {
          "output_type": "display_data",
          "data": {
            "text/plain": [
              "<Figure size 720x576 with 1 Axes>"
            ],
            "image/png": "[encoded data removed]"
          },
          "metadata": {}
        }
      ],
      "source": [
        "plt.figure(figsize=(10,8))\n",
        "sns.distplot(df['avg_training_score'].dropna())\n",
        "plt.xlabel(\"Média nas Avaliações de Treinamento Atuais\")\n",
        "plt.ylabel(\"Density\")\n",
        "plt.title('Average Training Score Distribution')\n",
        "plt.show()"
      ]
    },
    {
      "cell_type": "markdown",
      "metadata": {
        "id": "9ocx4WzK_luv"
      },
      "source": [
        "Observamos que a densidade da média das avaliações estão bastante distribuídas no gráfico, isto é, não apresenta um único valor onde se concentra maior parte da densidade. "
      ]
    },
    {
      "cell_type": "code",
      "source": [
        "plt.figure(figsize=(5,8))\n",
        "sns.boxplot(y=df['avg_training_score'])\n",
        "plt.title(\"Boxplot da coluna avg_training_score\")\n",
        "plt.show()"
      ],
      "metadata": {
        "colab": {
          "base_uri": "https://localhost:8080/",
          "height": 482
        },
        "id": "1r3utM68EbfF",
        "outputId": "fc6c57ad-a26a-4cf4-8942-81cd535c6da8"
      },
      "execution_count": null,
      "outputs": [
        {
          "output_type": "display_data",
          "data": {
            "text/plain": [
              "<Figure size 360x576 with 1 Axes>"
            ],
            "image/png": "[encoded data removed]"
          },
          "metadata": {}
        }
      ]
    },
    {
      "cell_type": "markdown",
      "source": [
        "Ademais, notamos que há dados faltantes (e não são poucos). Vamos analisar a média e a moda desta coluna."
      ],
      "metadata": {
        "id": "-6ffGBLsV5PD"
      }
    },
    {
      "cell_type": "code",
      "source": [
        "df['avg_training_score'].mean()"
      ],
      "metadata": {
        "colab": {
          "base_uri": "https://localhost:8080/"
        },
        "id": "kyitKthrWNub",
        "outputId": "dfd81a39-6012-4c50-b175-18ed3b43bf1d"
      },
      "execution_count": null,
      "outputs": [
        {
          "output_type": "execute_result",
          "data": {
            "text/plain": [
              "63.52114733276884"
            ]
          },
          "metadata": {},
          "execution_count": 346
        }
      ]
    },
    {
      "cell_type": "code",
      "source": [
        "df['avg_training_score'].mode()"
      ],
      "metadata": {
        "colab": {
          "base_uri": "https://localhost:8080/"
        },
        "id": "aGx8ehTvWTXx",
        "outputId": "81cf6ea0-79c6-4751-b3e6-ac1b986488aa"
      },
      "execution_count": null,
      "outputs": [
        {
          "output_type": "execute_result",
          "data": {
            "text/plain": [
              "0    50.0\n",
              "dtype: float64"
            ]
          },
          "metadata": {},
          "execution_count": 347
        }
      ]
    },
    {
      "cell_type": "markdown",
      "source": [
        "Como a moda está relativamente distante da média, então vou preencher os espaços vazios pela média aritmética da moda e da média dessa coluna (50+63)/2 = 56 (aproximadamente)."
      ],
      "metadata": {
        "id": "FI-ZFm3PWvZs"
      }
    },
    {
      "cell_type": "code",
      "source": [
        "df['avg_training_score'] = df['avg_training_score'].fillna(56)"
      ],
      "metadata": {
        "id": "qYPhA581Xu45"
      },
      "execution_count": null,
      "outputs": []
    },
    {
      "cell_type": "code",
      "source": [
        "print(\"avg_training_score column unique values:\")\n",
        "print(pd.Series(df.avg_training_score.unique()), end='\\n\\n')"
      ],
      "metadata": {
        "colab": {
          "base_uri": "https://localhost:8080/"
        },
        "id": "L3_RAfV3X6hN",
        "outputId": "246d89e6-5238-4f26-8b9c-138c6ea91209"
      },
      "execution_count": null,
      "outputs": [
        {
          "output_type": "stream",
          "name": "stdout",
          "text": [
            "avg_training_score column unique values:\n",
            "0     49.0\n",
            "1     60.0\n",
            "2     50.0\n",
            "3     73.0\n",
            "4     85.0\n",
            "      ... \n",
            "56    43.0\n",
            "57    95.0\n",
            "58    97.0\n",
            "59    41.0\n",
            "60    98.0\n",
            "Length: 61, dtype: float64\n",
            "\n"
          ]
        }
      ]
    },
    {
      "cell_type": "code",
      "source": [
        "plt.figure(figsize=(10,8))\n",
        "sns.distplot(df['avg_training_score'].dropna())\n",
        "plt.xlabel(\"Média nas Avaliações de Treinamento Atuais\")\n",
        "plt.ylabel(\"Density\")\n",
        "plt.title('Average Training Score Distribution')\n",
        "plt.show()"
      ],
      "metadata": {
        "colab": {
          "base_uri": "https://localhost:8080/",
          "height": 611
        },
        "id": "BInxH62NYA76",
        "outputId": "e130c7e5-46ea-4783-f9d8-7af082fe1f24"
      },
      "execution_count": null,
      "outputs": [
        {
          "output_type": "stream",
          "name": "stderr",
          "text": [
            "/usr/local/lib/python3.7/dist-packages/seaborn/distributions.py:2619: FutureWarning:\n",
            "\n",
            "`distplot` is a deprecated function and will be removed in a future version. Please adapt your code to use either `displot` (a figure-level function with similar flexibility) or `histplot` (an axes-level function for histograms).\n",
            "\n"
          ]
        },
        {
          "output_type": "display_data",
          "data": {
            "text/plain": [
              "<Figure size 720x576 with 1 Axes>"
            ],
            "image/png": "[encoded data removed]"
          },
          "metadata": {}
        }
      ]
    },
    {
      "cell_type": "markdown",
      "source": [
        "###Matriz de Correlação"
      ],
      "metadata": {
        "id": "GihqIVMcE6A7"
      }
    },
    {
      "cell_type": "markdown",
      "metadata": {
        "id": "xkgX4xZgOjGP"
      },
      "source": [
        "També podemos explorar a correlação entre colunas por meio de uma Matriz de Correlação, algo que vocês já viram"
      ]
    },
    {
      "cell_type": "code",
      "execution_count": null,
      "metadata": {
        "id": "R25lruIBOjGP",
        "colab": {
          "base_uri": "https://localhost:8080/",
          "height": 704
        },
        "outputId": "935da276-531b-4e81-c9a5-6973776a25c0"
      },
      "outputs": [
        {
          "output_type": "display_data",
          "data": {
            "text/plain": [
              "<Figure size 1080x720 with 2 Axes>"
            ],
            "image/png": "[encoded data removed]"
          },
          "metadata": {}
        }
      ],
      "source": [
        "plt.figure(figsize=(15,10))\n",
        "sns.heatmap(df.corr(), annot=True, vmin=-1, vmax=1)\n",
        "plt.show()"
      ]
    },
    {
      "cell_type": "markdown",
      "metadata": {
        "id": "00Z-KoWCOjGW"
      },
      "source": [
        "## Stripplots\n",
        "Stripplots são gráficos interessantes, principalmente quando combinados com outras informações prévias do seu dataset. Eles mostram como os dados são distribuídos por determinadas variáveis categóricas, demonstrando possíveis correlacionamentos."
      ]
    },
    {
      "cell_type": "code",
      "execution_count": null,
      "metadata": {
        "colab": {
          "base_uri": "https://localhost:8080/",
          "height": 611
        },
        "id": "PzQsZQGgOjGX",
        "outputId": "1b9ece52-2425-4cd7-f4af-033fa50e8033"
      },
      "outputs": [
        {
          "output_type": "display_data",
          "data": {
            "text/plain": [
              "<Figure size 1080x720 with 1 Axes>"
            ],
            "image/png": "[encoded data removed]"
          },
          "metadata": {}
        }
      ],
      "source": [
        "plt.figure(figsize=(15,10))\n",
        "sns.stripplot(x=\"gender\", y=\"avg_training_score\", data=df)\n",
        "plt.show()"
      ]
    },
    {
      "cell_type": "markdown",
      "metadata": {
        "id": "bJiQP_2qOjGZ"
      },
      "source": [
        "O gráfico acima mostra que a média de pontos do treinamento em ambos os gêneros são bastante similares."
      ]
    },
    {
      "cell_type": "markdown",
      "metadata": {
        "id": "ltbHoAyA9UWB"
      },
      "source": [
        "#Predição dos Dados\n",
        "\n",
        "Iremos seguir os seguintes passos para montar um modelo de predicação."
      ]
    },
    {
      "cell_type": "markdown",
      "metadata": {
        "id": "vpSnG73wlM-e"
      },
      "source": [
        "##Regressão Linear"
      ]
    },
    {
      "cell_type": "markdown",
      "metadata": {
        "id": "JmEx_VWvlVlT"
      },
      "source": [
        "###Importando bibliotecas necessárias para a predicação"
      ]
    },
    {
      "cell_type": "code",
      "execution_count": null,
      "metadata": {
        "id": "q_bl1wX1lauT"
      },
      "outputs": [],
      "source": [
        "# para os modelos de predição\n",
        "import plotly.express as px\n",
        "import seaborn as sns\n",
        "import matplotlib.pyplot as plt\n",
        "from sklearn.model_selection import train_test_split  # separação entre base de treino e de teste\n",
        "from sklearn.linear_model import LinearRegression  # modelo que vamos usar"
      ]
    },
    {
      "cell_type": "markdown",
      "metadata": {
        "id": "jqvJKw2n5CaK"
      },
      "source": [
        "### Dividir nossos dados em treino e teste"
      ]
    },
    {
      "cell_type": "code",
      "execution_count": null,
      "metadata": {
        "id": "BX7evkB65Pf9"
      },
      "outputs": [],
      "source": [
        "X = df.iloc[:, 5:11].values #valores para o treino\n",
        "\n",
        "y = df.iloc[:, 11].values #valores esperados\n",
        "\n",
        "X_train, X_test, y_train, y_test = train_test_split(X, y, test_size=0.30, random_state=0)"
      ]
    },
    {
      "cell_type": "code",
      "source": [
        "lr = LinearRegression()\n",
        "lr.fit(X_train, y_train)"
      ],
      "metadata": {
        "colab": {
          "base_uri": "https://localhost:8080/"
        },
        "id": "3UTFz_iBzGVT",
        "outputId": "47de6082-e326-4fa0-f1b9-8682c46c7d0c"
      },
      "execution_count": null,
      "outputs": [
        {
          "output_type": "execute_result",
          "data": {
            "text/plain": [
              "LinearRegression()"
            ]
          },
          "metadata": {},
          "execution_count": 408
        }
      ]
    },
    {
      "cell_type": "code",
      "source": [
        "lr.score(X_train, y_train)"
      ],
      "metadata": {
        "colab": {
          "base_uri": "https://localhost:8080/"
        },
        "id": "R1vW1E9mYv9a",
        "outputId": "14836276-c785-46e6-fa41-b491003b135e"
      },
      "execution_count": null,
      "outputs": [
        {
          "output_type": "execute_result",
          "data": {
            "text/plain": [
              "0.07574853304664664"
            ]
          },
          "metadata": {},
          "execution_count": 409
        }
      ]
    },
    {
      "cell_type": "markdown",
      "source": [
        "Acurácia extremamente baixa, portanto esse método é ineficiente."
      ],
      "metadata": {
        "id": "9pQq6XkhkoNC"
      }
    },
    {
      "cell_type": "code",
      "source": [
        "y_test_predict = lr.predict(X_test)"
      ],
      "metadata": {
        "id": "drL6sdtNZNO_"
      },
      "execution_count": null,
      "outputs": []
    },
    {
      "cell_type": "code",
      "source": [
        "from sklearn.metrics import mean_squared_error\n",
        "from sklearn.metrics import r2_score"
      ],
      "metadata": {
        "id": "ppuckQmrZZIv"
      },
      "execution_count": null,
      "outputs": []
    },
    {
      "cell_type": "code",
      "source": [
        "# avaliando o modelo nos dados de treino\n",
        "y_train_predict = lr.predict(X_train)\n",
        "rmse = (np.sqrt(mean_squared_error(y_train, y_train_predict)))\n",
        "r2 = r2_score(y_train, y_train_predict)\n",
        "\n",
        "\n",
        "print(\"Perfomance do modelo para os dados de treino\")\n",
        "print(\"--------------------------------------\")\n",
        "print(f'RMSE: {rmse}')\n",
        "print(f'R2 score: {r2}')\n",
        "print(\"\\n\")\n",
        "\n",
        "# avaliando o modelo nos dados de teste\n",
        "rmse = (np.sqrt(mean_squared_error(y_test, y_test_predict)))\n",
        "r2 = r2_score(y_test, y_test_predict)\n",
        "\n",
        "print(\"Perfomance do modelo para os dados de teste\")\n",
        "print(\"--------------------------------------\")\n",
        "print(f'RMSE: {rmse}')\n",
        "print(f'R2 score: {r2}')\n",
        "print(\"\\n\")"
      ],
      "metadata": {
        "colab": {
          "base_uri": "https://localhost:8080/"
        },
        "id": "nZ3Zgl7sZdR2",
        "outputId": "951070db-dbcb-4c0a-a83d-e6d358fd6d3c"
      },
      "execution_count": null,
      "outputs": [
        {
          "output_type": "stream",
          "name": "stdout",
          "text": [
            "Perfomance do modelo para os dados de treino\n",
            "--------------------------------------\n",
            "RMSE: 0.26830314170228653\n",
            "R2 score: 0.07574853304664664\n",
            "\n",
            "\n",
            "Perfomance do modelo para os dados de teste\n",
            "--------------------------------------\n",
            "RMSE: 0.26627747328186296\n",
            "R2 score: 0.0888909467787985\n",
            "\n",
            "\n"
          ]
        }
      ]
    },
    {
      "cell_type": "markdown",
      "source": [
        "A performance do modelo no teste está bastante próximo do modelo treino, por isso está razoavelmente bom (apesar de idealmente queremos um RMSE maior e R-Quadrado/R2 menor)."
      ],
      "metadata": {
        "id": "YF0xzFrQaDNz"
      }
    },
    {
      "cell_type": "markdown",
      "source": [
        "## Regressão Logística"
      ],
      "metadata": {
        "id": "9qtX62mcaiOl"
      }
    },
    {
      "cell_type": "code",
      "source": [
        "from sklearn.linear_model import LogisticRegression\n",
        "\n",
        "X = df.iloc[:, 5:11].values #valores para o treino\n",
        "\n",
        "y = df.iloc[:, 11].values #valores esperados\n",
        "\n",
        "X_train, X_test, y_train, y_test = train_test_split(X, y, test_size=0.3, random_state=0)"
      ],
      "metadata": {
        "id": "0sUVk9wqjpmO"
      },
      "execution_count": null,
      "outputs": []
    },
    {
      "cell_type": "markdown",
      "source": [
        "### Treinar o modelo"
      ],
      "metadata": {
        "id": "iXLD5Lf2kUHi"
      }
    },
    {
      "cell_type": "code",
      "source": [
        "logreg = LogisticRegression()\n",
        "logreg.fit(X_train, y_train)"
      ],
      "metadata": {
        "colab": {
          "base_uri": "https://localhost:8080/"
        },
        "id": "D5UQWJr0j3vs",
        "outputId": "015ebb26-d1fb-492e-efbf-1a1bd0578d4a"
      },
      "execution_count": null,
      "outputs": [
        {
          "output_type": "execute_result",
          "data": {
            "text/plain": [
              "LogisticRegression()"
            ]
          },
          "metadata": {},
          "execution_count": 418
        }
      ]
    },
    {
      "cell_type": "markdown",
      "source": [
        "### Testar o modelo"
      ],
      "metadata": {
        "id": "XUa9HOyFkXYf"
      }
    },
    {
      "cell_type": "code",
      "source": [
        "from sklearn.metrics import accuracy_score"
      ],
      "metadata": {
        "id": "wbBZSxrdkakH"
      },
      "execution_count": null,
      "outputs": []
    },
    {
      "cell_type": "code",
      "source": [
        "y_train_predict = logreg.predict(X_train)\n",
        "y_test_predict = logreg.predict(X_test)\n",
        "\n",
        "print(f'Acurácio no treino: {accuracy_score(y_train, y_train_predict)}')\n",
        "print(f'Acurácio no teste: {accuracy_score(y_test, y_test_predict)}')"
      ],
      "metadata": {
        "colab": {
          "base_uri": "https://localhost:8080/"
        },
        "id": "Oqv4q3XWkdG6",
        "outputId": "b3f115e7-3569-41be-fa15-c23c93ff685b"
      },
      "execution_count": null,
      "outputs": [
        {
          "output_type": "stream",
          "name": "stdout",
          "text": [
            "Acurácio no treino: 0.9183412161279364\n",
            "Acurácio no teste: 0.9187854399122005\n"
          ]
        }
      ]
    },
    {
      "cell_type": "markdown",
      "source": [
        "Acurária está ótima. Portanto a regressão logística está predizendo melhor os funcionários a serem promovidos, comparado à regressão linear (com acurácia extremamente baixa)."
      ],
      "metadata": {
        "id": "lv9RD_LOk_sN"
      }
    },
    {
      "cell_type": "markdown",
      "source": [
        "##Árvore de decisão (Exemplo 1)"
      ],
      "metadata": {
        "id": "uDhy3hMgl8Ka"
      }
    },
    {
      "cell_type": "code",
      "source": [
        "from sklearn.model_selection import train_test_split\n",
        "\n",
        "X = df.iloc[:, 5:11].values #valores para o treino\n",
        "\n",
        "y = df.iloc[:, 11].values #valores esperados\n",
        "\n",
        "X_train, X_test, y_train, y_test = train_test_split(X, y, test_size=0.3, random_state=0)"
      ],
      "metadata": {
        "id": "9O5-0tammEi7"
      },
      "execution_count": null,
      "outputs": []
    },
    {
      "cell_type": "code",
      "source": [
        "from sklearn.tree import DecisionTreeClassifier\n",
        "\n",
        "clf_model = DecisionTreeClassifier(\n",
        "    criterion=\"gini\",\n",
        "    random_state=0,\n",
        "    max_depth=3,\n",
        "    min_samples_leaf=5\n",
        ")\n",
        "\n",
        "clf_model.fit(X_train,y_train)"
      ],
      "metadata": {
        "colab": {
          "base_uri": "https://localhost:8080/"
        },
        "id": "KdfBgl2nmOSy",
        "outputId": "bc5f75b4-9f26-4ed6-ea67-15a727d7df8b"
      },
      "execution_count": null,
      "outputs": [
        {
          "output_type": "execute_result",
          "data": {
            "text/plain": [
              "DecisionTreeClassifier(max_depth=3, min_samples_leaf=5, random_state=0)"
            ]
          },
          "metadata": {},
          "execution_count": 422
        }
      ]
    },
    {
      "cell_type": "code",
      "source": [
        "y_predict = clf_model.predict(X_test)"
      ],
      "metadata": {
        "id": "1FSplZjumVSD"
      },
      "execution_count": null,
      "outputs": []
    },
    {
      "cell_type": "code",
      "source": [
        "y_predict"
      ],
      "metadata": {
        "colab": {
          "base_uri": "https://localhost:8080/"
        },
        "id": "rRx3GncUmXqV",
        "outputId": "3ef11fe1-06a7-4fe2-871a-ab2dbaa4df3d"
      },
      "execution_count": null,
      "outputs": [
        {
          "output_type": "execute_result",
          "data": {
            "text/plain": [
              "array([0, 0, 0, ..., 0, 0, 0])"
            ]
          },
          "metadata": {},
          "execution_count": 424
        }
      ]
    },
    {
      "cell_type": "markdown",
      "source": [
        "###Avaliação do modelo"
      ],
      "metadata": {
        "id": "MaXGAhQlmY7V"
      }
    },
    {
      "cell_type": "code",
      "source": [
        "from sklearn.metrics import accuracy_score\n",
        "accuracy_score(y_test,y_predict)"
      ],
      "metadata": {
        "colab": {
          "base_uri": "https://localhost:8080/"
        },
        "id": "WFkOpKxfmdoJ",
        "outputId": "2315e761-d5ca-49b2-9a41-6fda0d4ceb36"
      },
      "execution_count": null,
      "outputs": [
        {
          "output_type": "execute_result",
          "data": {
            "text/plain": [
              "0.9221388939698799"
            ]
          },
          "metadata": {},
          "execution_count": 425
        }
      ]
    },
    {
      "cell_type": "markdown",
      "source": [
        "### Visualizando nossa árvore! \n",
        "O SKLearn permite com que plotemos nossa árvore de decisão após o treinamento. Para isso basta importar o módulo `plot_tree` e passar nosso modelo treinado como parâmetro. Veja:"
      ],
      "metadata": {
        "id": "r5SO-64zmnjt"
      }
    },
    {
      "cell_type": "code",
      "source": [
        "from sklearn.tree import plot_tree\n",
        "\n",
        "plt.figure(figsize=(13, 10))\n",
        "plot_tree(clf_model, filled=True)"
      ],
      "metadata": {
        "colab": {
          "base_uri": "https://localhost:8080/",
          "height": 849
        },
        "id": "V_lcvT-0mp9J",
        "outputId": "19923afe-1625-431e-e6ea-79fbfdba4217"
      },
      "execution_count": null,
      "outputs": [
        {
          "output_type": "execute_result",
          "data": {
            "text/plain": [
              "[Text(0.5, 0.875, 'X[5] <= 89.5\\ngini = 0.154\\nsamples = 13667\\nvalue = [12519, 1148]'),\n",
              " Text(0.25, 0.625, 'X[4] <= 0.5\\ngini = 0.141\\nsamples = 13508\\nvalue = [12478, 1030]'),\n",
              " Text(0.125, 0.375, 'X[2] <= 4.5\\ngini = 0.131\\nsamples = 13245\\nvalue = [12308, 937]'),\n",
              " Text(0.0625, 0.125, 'gini = 0.1\\nsamples = 10467\\nvalue = [9913, 554]'),\n",
              " Text(0.1875, 0.125, 'gini = 0.238\\nsamples = 2778\\nvalue = [2395, 383]'),\n",
              " Text(0.375, 0.375, 'X[2] <= 4.5\\ngini = 0.457\\nsamples = 263\\nvalue = [170, 93]'),\n",
              " Text(0.3125, 0.125, 'gini = 0.42\\nsamples = 207\\nvalue = [145, 62]'),\n",
              " Text(0.4375, 0.125, 'gini = 0.494\\nsamples = 56\\nvalue = [25, 31]'),\n",
              " Text(0.75, 0.625, 'X[5] <= 90.5\\ngini = 0.383\\nsamples = 159\\nvalue = [41, 118]'),\n",
              " Text(0.625, 0.375, 'X[2] <= 4.5\\ngini = 0.495\\nsamples = 40\\nvalue = [22, 18]'),\n",
              " Text(0.5625, 0.125, 'gini = 0.4\\nsamples = 29\\nvalue = [21, 8]'),\n",
              " Text(0.6875, 0.125, 'gini = 0.165\\nsamples = 11\\nvalue = [1, 10]'),\n",
              " Text(0.875, 0.375, 'X[5] <= 93.5\\ngini = 0.268\\nsamples = 119\\nvalue = [19, 100]'),\n",
              " Text(0.8125, 0.125, 'gini = 0.39\\nsamples = 64\\nvalue = [17, 47]'),\n",
              " Text(0.9375, 0.125, 'gini = 0.07\\nsamples = 55\\nvalue = [2, 53]')]"
            ]
          },
          "metadata": {},
          "execution_count": 385
        },
        {
          "output_type": "display_data",
          "data": {
            "text/plain": [
              "<Figure size 936x720 with 1 Axes>"
            ],
            "image/png": "[encoded data removed]"
          },
          "metadata": {}
        }
      ]
    },
    {
      "cell_type": "markdown",
      "source": [
        "##Árvore de decisão (Exemplo 2)"
      ],
      "metadata": {
        "id": "0ZLIZPWNmxS3"
      }
    },
    {
      "cell_type": "markdown",
      "source": [
        "### Dividindo os dados e montando os datasets de treino e validação"
      ],
      "metadata": {
        "id": "insQs5vLm8DO"
      }
    },
    {
      "cell_type": "code",
      "source": [
        "X = df.iloc[:, 5:11].values #valores para o treino\n",
        "\n",
        "y = df.iloc[:, 11].values #valores esperados\n",
        "\n",
        "X_train, X_test, y_train, y_test = train_test_split(X, y, test_size=0.3, random_state=0)"
      ],
      "metadata": {
        "id": "tfpoqE4KnAPn"
      },
      "execution_count": null,
      "outputs": []
    },
    {
      "cell_type": "code",
      "source": [
        "clf_model_2 = DecisionTreeClassifier(\n",
        "    criterion=\"entropy\",\n",
        "    random_state=0,\n",
        "    max_depth=5\n",
        ")\n",
        "clf_model_2.fit(X_train , y_train)"
      ],
      "metadata": {
        "colab": {
          "base_uri": "https://localhost:8080/"
        },
        "id": "p4n-rEBVnFUN",
        "outputId": "d5114238-5064-440c-9af0-1c9314282b8d"
      },
      "execution_count": null,
      "outputs": [
        {
          "output_type": "execute_result",
          "data": {
            "text/plain": [
              "DecisionTreeClassifier(criterion='entropy', max_depth=5, random_state=0)"
            ]
          },
          "metadata": {},
          "execution_count": 427
        }
      ]
    },
    {
      "cell_type": "code",
      "source": [
        "y_predict = clf_model_2.predict(X_test)"
      ],
      "metadata": {
        "id": "4NAXNYw8nNsW"
      },
      "execution_count": null,
      "outputs": []
    },
    {
      "cell_type": "code",
      "source": [
        "accuracy_score(y_test, y_predict)"
      ],
      "metadata": {
        "colab": {
          "base_uri": "https://localhost:8080/"
        },
        "id": "K3vmq89jnRD6",
        "outputId": "f970f5f0-1e50-42d7-be0b-5e48ffc5fba5"
      },
      "execution_count": null,
      "outputs": [
        {
          "output_type": "execute_result",
          "data": {
            "text/plain": [
              "0.9232973599170782"
            ]
          },
          "metadata": {},
          "execution_count": 429
        }
      ]
    },
    {
      "cell_type": "markdown",
      "source": [
        "##Random Forest"
      ],
      "metadata": {
        "id": "xdOj5gcDndD9"
      }
    },
    {
      "cell_type": "markdown",
      "source": [
        "###Bibliotecas que serão utilizadas"
      ],
      "metadata": {
        "id": "kxQznTPsn67w"
      }
    },
    {
      "cell_type": "code",
      "source": [
        "import pandas as pd\n",
        "import matplotlib.pyplot as plt\n",
        "import seaborn as sns\n",
        "from sklearn import preprocessing\n",
        "from sklearn.model_selection import train_test_split\n",
        "from sklearn.metrics import confusion_matrix\n",
        "from sklearn.ensemble import RandomForestClassifier\n",
        "from sklearn.metrics import accuracy_score"
      ],
      "metadata": {
        "id": "Zy_3Vf_Tn-f4"
      },
      "execution_count": null,
      "outputs": []
    },
    {
      "cell_type": "markdown",
      "source": [
        "### Divisão dos dados e construção do modelo\n",
        "Uma vez que organizamos nossos dados, podemos separá-lo utilizando o método `train_test_split` do scikit-learn e fazer o treinamento de nossa Random Forest utilizando o módulo `RandomForestClassifier`."
      ],
      "metadata": {
        "id": "1_HsuD2VnfwW"
      }
    },
    {
      "cell_type": "code",
      "source": [
        "X = df.iloc[:, 5:11].values #valores para o treino\n",
        "\n",
        "y = df.iloc[:, 11].values #valores esperados\n",
        "\n",
        "X_train, X_test, y_train, y_test = train_test_split(X, y, test_size=0.3, random_state=0)"
      ],
      "metadata": {
        "id": "17COPmygnfVX"
      },
      "execution_count": null,
      "outputs": []
    },
    {
      "cell_type": "code",
      "source": [
        "rf = RandomForestClassifier(\n",
        "    max_depth=25,\n",
        "    n_estimators=200,\n",
        "    min_samples_split=50,\n",
        "    criterion='entropy',\n",
        "    oob_score=True,\n",
        "    random_state=0\n",
        ")\n",
        "\n",
        "rf.fit(X_train, y_train)"
      ],
      "metadata": {
        "colab": {
          "base_uri": "https://localhost:8080/"
        },
        "id": "i9RrA30UnlBf",
        "outputId": "90e1ca35-d947-4967-f313-a0869183023a"
      },
      "execution_count": null,
      "outputs": [
        {
          "output_type": "execute_result",
          "data": {
            "text/plain": [
              "RandomForestClassifier(criterion='entropy', max_depth=25, min_samples_split=50,\n",
              "                       n_estimators=200, oob_score=True, random_state=0)"
            ]
          },
          "metadata": {},
          "execution_count": 432
        }
      ]
    },
    {
      "cell_type": "markdown",
      "source": [
        "###Avaliação do modelo"
      ],
      "metadata": {
        "id": "AHw0CVjjoJFl"
      }
    },
    {
      "cell_type": "code",
      "source": [
        "predicted = rf.predict(X_test)\n",
        "accuracy = accuracy_score(y_test, predicted)\n",
        "print(f'Out-of-bag score estimate: {rf.oob_score_:.3}')\n",
        "print(f'Mean accuracy score: {accuracy:.3}')"
      ],
      "metadata": {
        "colab": {
          "base_uri": "https://localhost:8080/"
        },
        "id": "b7ONISAIoLtz",
        "outputId": "d308105e-e6e4-4968-cfb7-2535afe4d0d7"
      },
      "execution_count": null,
      "outputs": [
        {
          "output_type": "stream",
          "name": "stdout",
          "text": [
            "Out-of-bag score estimate: 0.922\n",
            "Mean accuracy score: 0.924\n"
          ]
        }
      ]
    },
    {
      "cell_type": "markdown",
      "source": [
        "Observamos que a acurácia desse modelo está próximo de 1, desse modo torna-se eficiente para a predição do nosso dataset."
      ],
      "metadata": {
        "id": "UxvCW9xMoTwt"
      }
    },
    {
      "cell_type": "code",
      "source": [
        "cm = confusion_matrix(y_test, predicted)\n",
        "fig, (ax) = plt.subplots(1, 1, figsize=(8,7))\n",
        "sns.heatmap(cm, annot=True, ax = ax,fmt='g')\n",
        "# labels, title and ticks\n",
        "ax.set_xlabel('Predicted labels')\n",
        "ax.set_ylabel('True labels');\n",
        "ax.set_title('Confusion Matrix')\n",
        "sns.set(font_scale=1.5)\n",
        "ax.xaxis.set_ticklabels(['Income > 50 K', 'Income < 50 K'])\n",
        "ax.yaxis.set_ticklabels(['Income > 50 K', 'Income < 50 K'])"
      ],
      "metadata": {
        "colab": {
          "base_uri": "https://localhost:8080/",
          "height": 499
        },
        "id": "kQ0zR2UQoQCv",
        "outputId": "712b7ab0-39f4-41b2-d34a-5752c7ef4040"
      },
      "execution_count": null,
      "outputs": [
        {
          "output_type": "execute_result",
          "data": {
            "text/plain": [
              "[Text(0, 0.5, 'Income > 50 K'), Text(0, 1.5, 'Income < 50 K')]"
            ]
          },
          "metadata": {},
          "execution_count": 434
        },
        {
          "output_type": "display_data",
          "data": {
            "text/plain": [
              "<Figure size 576x504 with 2 Axes>"
            ],
            "image/png": "[encoded data removed]"
          },
          "metadata": {}
        }
      ]
    },
    {
      "cell_type": "markdown",
      "source": [
        "## Naive Bayes"
      ],
      "metadata": {
        "id": "wfshn16so08_"
      }
    },
    {
      "cell_type": "markdown",
      "source": [
        "###Implementação"
      ],
      "metadata": {
        "id": "NmxPWL_fpENK"
      }
    },
    {
      "cell_type": "code",
      "source": [
        "from sklearn.naive_bayes import GaussianNB"
      ],
      "metadata": {
        "id": "2yefLwXvpGQD"
      },
      "execution_count": null,
      "outputs": []
    },
    {
      "cell_type": "code",
      "source": [
        "X = df.iloc[:, 5:11].values #valores para o treino\n",
        "\n",
        "y = df.iloc[:, 11].values #valores esperados\n",
        "\n",
        "X_train, X_test, y_train, y_test = train_test_split(X, y, test_size=0.75, random_state=0)"
      ],
      "metadata": {
        "id": "cVLKFM8ApMrq"
      },
      "execution_count": null,
      "outputs": []
    },
    {
      "cell_type": "code",
      "source": [
        "model = GaussianNB()\n",
        "model.fit(X_train, y_train)\n",
        "y_predict = model.predict(X_test)\n",
        "print(y_predict)"
      ],
      "metadata": {
        "colab": {
          "base_uri": "https://localhost:8080/"
        },
        "id": "i5U0jBXFqbMQ",
        "outputId": "95bded3a-4365-4e5b-ccf7-29268c029cc3"
      },
      "execution_count": null,
      "outputs": [
        {
          "output_type": "stream",
          "name": "stdout",
          "text": [
            "[0 0 0 ... 0 1 0]\n"
          ]
        }
      ]
    },
    {
      "cell_type": "code",
      "source": [
        "print(accuracy_score(y_test, y_predict))"
      ],
      "metadata": {
        "colab": {
          "base_uri": "https://localhost:8080/"
        },
        "id": "zYtM5Yz5qdH9",
        "outputId": "46c793e1-3ab8-4ded-c4b3-32102451712d"
      },
      "execution_count": null,
      "outputs": [
        {
          "output_type": "stream",
          "name": "stdout",
          "text": [
            "0.9121771577689437\n"
          ]
        }
      ]
    }
  ],
  "metadata": {
    "colab": {
      "name": "Projeto1.ipynb",
      "provenance": [],
      "collapsed_sections": [
        "xR8xNv_sXGWG",
        "6taen9BVJLPV",
        "BaAIv2rtOjGD",
        "-n4kDdxROjGS",
        "00Z-KoWCOjGW",
        "WWTg9xAoOjGc"
      ]
    },
    "kernelspec": {
      "display_name": "Python 3.10.4 64-bit (windows store)",
      "language": "python",
      "name": "python3"
    },
    "language_info": {
      "codemirror_mode": {
        "name": "ipython",
        "version": 3
      },
      "file_extension": ".py",
      "mimetype": "text/x-python",
      "name": "python",
      "nbconvert_exporter": "python",
      "pygments_lexer": "ipython3",
      "version": "3.10.4"
    },
    "vscode": {
      "interpreter": {
        "hash": "efb9895a4d6fa8eb3ee9dc50451913cc0a6f907b8141be5d9c5d85bdc7ff5642"
      }
    }
  },
  "nbformat": 4,
  "nbformat_minor": 0
}